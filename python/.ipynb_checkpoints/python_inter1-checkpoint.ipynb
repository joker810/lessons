{
 "cells": [
  {
   "cell_type": "markdown",
   "metadata": {},
   "source": [
    "##comparision operator\n",
    "\n"
   ]
  },
  {
   "cell_type": "code",
   "execution_count": null,
   "metadata": {},
   "outputs": [],
   "source": [
    "#comparion operator is looking for true or false \n",
    "30>29\n",
    "age=input(\"enter your age?\")\n",
    "if int(age) >= 20:\n",
    "    print(\"your are a adult\")\n",
    "    "
   ]
  },
  {
   "cell_type": "code",
   "execution_count": null,
   "metadata": {},
   "outputs": [],
   "source": [
    "name=\"zeke\"\n",
    "if name == \"zeke\":\n",
    "    print(\"go\")"
   ]
  },
  {
   "cell_type": "markdown",
   "metadata": {},
   "source": [
    "comparision always checks for string and string comparision or comparision of same datatype."
   ]
  },
  {
   "cell_type": "code",
   "execution_count": null,
   "metadata": {},
   "outputs": [],
   "source": [
    "age=20\n",
    "if age >= 20:\n",
    "    print(\"adult\")"
   ]
  },
  {
   "cell_type": "code",
   "execution_count": null,
   "metadata": {},
   "outputs": [],
   "source": [
    "print(30==30)\n",
    "print(30>=30)\n",
    "print(30<=30)\n",
    "print(30!=30)\n",
    "print(30<30)\n",
    "print(30>30)"
   ]
  },
  {
   "cell_type": "code",
   "execution_count": null,
   "metadata": {},
   "outputs": [],
   "source": [
    "name=\"raju\"\n",
    "input_name=input(\"enter the name?\")\n",
    "if name ==input_name.lower():\n",
    "    print('enter the realm')\n",
    "else:\n",
    "    print('dont')"
   ]
  },
  {
   "cell_type": "code",
   "execution_count": null,
   "metadata": {},
   "outputs": [],
   "source": [
    "nameed=None\n",
    "if nameed == None:\n",
    "    print(\"== empty\")\n",
    "if nameed is None:\n",
    "    print(\"none empty\")"
   ]
  },
  {
   "cell_type": "code",
   "execution_count": null,
   "metadata": {},
   "outputs": [],
   "source": [
    "day=\"cid\"\n",
    "if day:\n",
    "    print(\"string has value\")\n",
    "if not day:\n",
    "    print(\"has no value\")"
   ]
  },
  {
   "cell_type": "code",
   "execution_count": null,
   "metadata": {},
   "outputs": [],
   "source": [
    "week=['monday','tuesday','wednesday']\n",
    "if week:\n",
    "    print('we have',len(week))\n",
    "if not week:\n",
    "    print('we no value')"
   ]
  },
  {
   "cell_type": "code",
   "execution_count": null,
   "metadata": {},
   "outputs": [],
   "source": [
    "year=()\n",
    "if year:\n",
    "    print(len(year))\n",
    "if not year:\n",
    "    print('we have no value')"
   ]
  },
  {
   "cell_type": "code",
   "execution_count": null,
   "metadata": {},
   "outputs": [],
   "source": [
    "age=32\n",
    "if age == 30:\n",
    "    print('abc')\n",
    "if age > 30:\n",
    "    print('uncle')"
   ]
  },
  {
   "cell_type": "code",
   "execution_count": null,
   "metadata": {},
   "outputs": [],
   "source": [
    "name1='raka'\n",
    "name2='raka'\n",
    "if name1 is name2:\n",
    "    print('yes boss')"
   ]
  },
  {
   "cell_type": "code",
   "execution_count": null,
   "metadata": {},
   "outputs": [],
   "source": [
    "# and or operator\n",
    "name=\"miller\"\n",
    "course='python'\n",
    "grade='11'\n",
    "new=''\n",
    "eew=''\n",
    "if name=='miller' or course=='python':\n",
    "    print('or both or one must be true')\n",
    "    \n",
    "if name=='miller' or new:\n",
    "    print('one must be true')\n",
    "    \n",
    "if new or eew:\n",
    "    print('both are wrong')\n",
    "if not new or eew:\n",
    "    print('both are wrong')\n",
    "    \n",
    "if name=='miller' and course=='python':\n",
    "    print(\"AND both must true\")\n",
    "    \n",
    "if name=='miller' and course!='python':\n",
    "    print(\"no\")\n",
    "else:\n",
    "    print(\"in AND operator both must be true\")\n",
    "    \n",
    "if (name=='miller' and course=='python') or grade=='11':\n",
    "    print(\"operator using AND , OR in brackets\")\n",
    "    \n",
    "if (name=='miller' and course!='python') or grade=='11':\n",
    "    print(\"operator using AND , OR in brackets. one AND is wrong\")\n",
    "    \n",
    "if (name=='miller' and course=='python') or grade!='11':\n",
    "    print(\"operator using AND , OR in brackets. OR is wrong\")\n",
    "\n",
    "if (name!='miller' and course=='python') or grade!='11':\n",
    "    print(\"no\")\n",
    "else:\n",
    "    print(\"False,operator using AND , OR in brackets, OR and one AND is wrong\")\n",
    "    \n",
    "\n",
    "if (name!='miller' and course!='python') or grade=='11':\n",
    "    print(\"operator using AND , OR in brackets. OR is wrong, gg\")\n",
    "    \n",
    "    \n"
   ]
  },
  {
   "cell_type": "markdown",
   "metadata": {},
   "source": [
    "chaining the operator using else and elif which is else if"
   ]
  },
  {
   "cell_type": "code",
   "execution_count": null,
   "metadata": {},
   "outputs": [],
   "source": [
    "name=\"doggie\"\n",
    "if name==\"maga\":\n",
    "    print(\"no\")\n",
    "elif name=='raga':\n",
    "    print('not raga')\n",
    "elif name=='doggie':\n",
    "    print('its the name')\n",
    "else:\n",
    "    print('none of the above')\n",
    "     \n",
    "    "
   ]
  },
  {
   "cell_type": "code",
   "execution_count": null,
   "metadata": {},
   "outputs": [],
   "source": [
    "#loops for and while\n",
    "name='computer'\n",
    "name=list(name)\n",
    "type(name)\n",
    "\n",
    "for letter in name:\n",
    "    print(letter)\n",
    "num=1   \n",
    "while num <100:\n",
    "    print(num)\n",
    "    num=num+1\n"
   ]
  },
  {
   "cell_type": "code",
   "execution_count": null,
   "metadata": {},
   "outputs": [],
   "source": [
    "#for loop\n"
   ]
  },
  {
   "cell_type": "code",
   "execution_count": null,
   "metadata": {},
   "outputs": [],
   "source": [
    "pets=('dogs','cats','giraffe','zebra')\n",
    "for animals in pets:\n",
    "    animas=animals.replace('s','$')\n",
    "    print(f\"pets with money {animas}\")\n",
    "    \n",
    "    \n",
    "name=\"pythonforavri1\"\n",
    "for bru in name:\n",
    "    print(bru)\n",
    "#the variable declared inside for loop \n",
    "\n",
    "tuples=(\n",
    "    (2,'one'),\n",
    "    (3,\"two\"),\n",
    ")\n",
    "for age , name in tuples:\n",
    "    print(f'{name} ,{age} years old')\n",
    "    \n",
    "#for loops loop through iterables\n",
    "#in iterable value must be same cant one less or more gives value error \n",
    "#"
   ]
  },
  {
   "cell_type": "code",
   "execution_count": null,
   "metadata": {},
   "outputs": [],
   "source": [
    "#for loops in dictionry use items() method to unpack dictionary as tuple\n",
    "#\n",
    "\n",
    "dicts={\n",
    "    'name':'eren',\n",
    "    'age':3,\n",
    "    'course':'python',\n",
    "}\n",
    "\n",
    "for key,value in dicts.items():\n",
    "    print(f'key:{key}\\t\\tvalue:{value}')"
   ]
  },
  {
   "cell_type": "code",
   "execution_count": null,
   "metadata": {},
   "outputs": [],
   "source": [
    "#while loop \n",
    "num=10\n",
    "while num >= 0:\n",
    "    print(num)\n",
    "    num=num-1"
   ]
  },
  {
   "cell_type": "code",
   "execution_count": null,
   "metadata": {},
   "outputs": [],
   "source": [
    "#break and continue.\n",
    "#break this keyword simply breaks out of the loop or condition\n",
    "#continue this keyword skips the part it is in to nxt step\n",
    "\n",
    "colors=('red','blue','green','yellow')\n",
    "for color in colors:\n",
    "    if color=='green':  \n",
    "        continue\n",
    "    print(color)\n",
    "    \n",
    "print(\"break keyword\")\n",
    "for color in colors:\n",
    "    if color=='green':\n",
    "        break\n",
    "    print(color)\n",
    "      \n",
    "\n",
    "while True:\n",
    "        name=input(\"enter name?\")\n",
    "        if name==\"zeke\":\n",
    "            print('won')\n",
    "            break\n",
    "        print('wrong')\n"
   ]
  },
  {
   "cell_type": "code",
   "execution_count": null,
   "metadata": {},
   "outputs": [],
   "source": [
    "print(\"sdf\")"
   ]
  },
  {
   "cell_type": "code",
   "execution_count": null,
   "metadata": {},
   "outputs": [],
   "source": [
    "#type casting\n",
    "age=input(\"enter your age?\")\n"
   ]
  },
  {
   "cell_type": "code",
   "execution_count": null,
   "metadata": {},
   "outputs": [],
   "source": [
    "type(age)"
   ]
  },
  {
   "cell_type": "code",
   "execution_count": null,
   "metadata": {},
   "outputs": [],
   "source": [
    "age=int(age)"
   ]
  },
  {
   "cell_type": "code",
   "execution_count": null,
   "metadata": {},
   "outputs": [],
   "source": [
    "type(age)"
   ]
  },
  {
   "cell_type": "code",
   "execution_count": null,
   "metadata": {},
   "outputs": [],
   "source": [
    "tuples=('red','orange','blue','purple','neon','red',)\n",
    "print(tuples)\n",
    "tuples=list(tuples)\n",
    "print(tuples)\n",
    "tuples.append('green')\n",
    "print(tuples)\n",
    "#changing tuples to list to add an element into tuples.\n",
    "\n",
    "\n",
    "\n",
    "#casting while declaring\n",
    "tus=list(set(('red','orange','blue','purple','neon','red',)))\n",
    "print(tus)"
   ]
  },
  {
   "cell_type": "code",
   "execution_count": null,
   "metadata": {},
   "outputs": [],
   "source": [
    "dicts={\n",
    "    'key':'value',\n",
    "    'key1':'value2',\n",
    "}\n",
    "\n",
    "dicts=tuple(dicts.items())\n",
    "print(dicts)\n"
   ]
  },
  {
   "cell_type": "code",
   "execution_count": null,
   "metadata": {},
   "outputs": [],
   "source": [
    "#helpful operators\n",
    "\n",
    "#enumerate keyword gives out number for list or set number lines\n",
    "\n",
    "lst=['red','blue','green','yellow','neon']\n",
    "for index,color in enumerate(lst):\n",
    "    print(index+1,color)\n",
    "    \n",
    "#zipping\n",
    "a=('one','two','three')\n",
    "b=(1,2,3)\n",
    "\n",
    "#zip keyword is used to join a lists or any data type\n",
    "for num in zip(a,b):\n",
    "    print(num)\n",
    "    \n",
    "course=\"python for everybody\"\n",
    "\n",
    "words=course.split(' ')\n",
    "print(words)\n",
    "words.sort()\n",
    "words\n",
    "course='_'.join(words)\n",
    "print(course)\n",
    "\n",
    "from random import shuffle\n",
    "\n",
    "\n",
    "print(words)\n",
    "\n"
   ]
  },
  {
   "cell_type": "code",
   "execution_count": null,
   "metadata": {},
   "outputs": [],
   "source": [
    "#list comprehension is shorter syntax used with list with for and if loops\n",
    "\n",
    "lst=[]\n",
    "course=\"python for everybody\"\n",
    "for letter in course:\n",
    "    lst.append(letter)\n",
    "\n",
    "print(lst)    \n",
    "\n",
    "l=[letter for letter in newcourse]\n",
    "newcourse=\"javascript for everybody\"\n",
    "\n",
    "print(l)\n",
    "\n",
    "vowels=[letter for letter in newcourse if letter in \"aeiouy\" ]\n",
    "print(vowels)\n",
    "\n",
    "\n",
    "celcious=[-20,-10,0,10,20,30]\n",
    "farenheit=[temp*1.8+32 for temp in celcious]\n",
    "print(farenheit)\n",
    "\n",
    "\n",
    "\n",
    "\n"
   ]
  },
  {
   "cell_type": "code",
   "execution_count": 2,
   "metadata": {},
   "outputs": [
    {
     "name": "stdout",
     "output_type": "stream",
     "text": [
      "[32.0, 41.0, 68.0, 104.0]\n"
     ]
    }
   ],
   "source": [
    "cel=[0,5,20,40]\n",
    "far=[]\n",
    "\n",
    "for tempt in cel:\n",
    "    tempt=(tempt*1.8)+32\n",
    "    far.append(tempt)\n",
    "    \n",
    "print(far)"
   ]
  },
  {
   "cell_type": "code",
   "execution_count": 12,
   "metadata": {},
   "outputs": [
    {
     "name": "stdout",
     "output_type": "stream",
     "text": [
      "{'name': 'eren', 'age': 20, 'color': 'black'}\n",
      "{'name': 'eren', 'age': 20, 'color': 'black'}\n",
      "{'name': 'eren', 'color': 'black'}\n"
     ]
    }
   ],
   "source": [
    "keys=['name','age','color']\n",
    "values=['eren',20,'black']\n",
    "dicts={}\n",
    "\n",
    "for key,value in zip(keys,values):\n",
    "    dicts[key]=value\n",
    "    \n",
    "print(dicts)\n",
    "\n",
    "dicts1={key:value for key,value in zip(keys,values)}\n",
    "print(dicts1)\n",
    "\n",
    "dicts2={key:value for key,value in zip(keys,values) if key!='age'}\n",
    "print(dicts2)"
   ]
  },
  {
   "cell_type": "code",
   "execution_count": 45,
   "metadata": {},
   "outputs": [],
   "source": [
    "#functions\n",
    "def myname(name=\"eren\"):\n",
    "    return f\"hello {name}\"\n",
    "\n",
    "myname()  #the function uses default argument value\n",
    "#if we dont give default value return error\n",
    "myname('zeke') #passing a argument.\n",
    "\n",
    "greeting=myname()\n",
    "#assigning a variable to the function we can use method on them\n",
    "\n",
    "greeting.upper()\n",
    "greeting.zfill(13)\n",
    "\n",
    "def can_drink(age):\n",
    "    if age>=18:\n",
    "        return True\n",
    "    else:\n",
    "        return False\n",
    "\n",
    "can_drink(15)\n",
    "# here we have to give argument which is age\n",
    "\n",
    "def persons(name,age,occupation=\"student\",experience=0):\n",
    "    ids={\n",
    "        'name':name,\n",
    "        'age':age,\n",
    "        'work':occupation,\n",
    "        'exp':experience,\n",
    "    }\n",
    "    return ids\n",
    "\n",
    "id501=persons(\"abay\",23,\"clerk\",2)\n",
    "\n"
   ]
  },
  {
   "cell_type": "code",
   "execution_count": 46,
   "metadata": {},
   "outputs": [
    {
     "name": "stdout",
     "output_type": "stream",
     "text": [
      "{'name': 'abay', 'age': 23, 'work': 'clerk', 'exp': 2}\n"
     ]
    }
   ],
   "source": [
    "print(id501)"
   ]
  },
  {
   "cell_type": "code",
   "execution_count": 50,
   "metadata": {},
   "outputs": [
    {
     "name": "stdout",
     "output_type": "stream",
     "text": [
      "enter your age?23\n"
     ]
    },
    {
     "data": {
      "text/plain": [
       "\"you are 23's old\""
      ]
     },
     "execution_count": 50,
     "metadata": {},
     "output_type": "execute_result"
    }
   ],
   "source": [
    "\n",
    "\n",
    "def your_age():\n",
    "    age=input(\"enter your age?\")\n",
    "    age=int(age)\n",
    "    return f\"you are {age}'s old\"\n",
    "\n",
    "your_age()"
   ]
  },
  {
   "cell_type": "code",
   "execution_count": 71,
   "metadata": {},
   "outputs": [
    {
     "name": "stdout",
     "output_type": "stream",
     "text": [
      "(2, 3, 243, 3)\n",
      "<class 'tuple'>\n",
      "coffee\n",
      "eren\n",
      "{'name': 'eren', 'age': '23'}\n",
      "<class 'dict'>\n"
     ]
    }
   ],
   "source": [
    "#args and kwargs\n",
    "\n",
    "def arguments(*args):\n",
    "    print(args)\n",
    "    print(type(args))\n",
    "    \n",
    "arguments(2,3,243,3)\n",
    "\n",
    "def things(*args):\n",
    "    for thing in args:\n",
    "        print(thing)\n",
    "    \n",
    "things(\"coffee\",\"eren\")\n",
    "\n",
    "#kwargs are dictionary\n",
    "\n",
    "def func(**kwargs):\n",
    "    print(kwargs)\n",
    "    print(type(kwargs))\n",
    "    \n",
    "func(name=\"eren\",age=\"23\")\n",
    "\n",
    "\n",
    "\n",
    "\n",
    "\n"
   ]
  },
  {
   "cell_type": "code",
   "execution_count": 78,
   "metadata": {},
   "outputs": [],
   "source": [
    "def funct(name,*args,**kwargs):\n",
    "    print(f'hello {name}')\n",
    "    for dish in args:\n",
    "        print(f\"you ordered {dish}\")\n",
    "        \n",
    "    if kwargs.get(\"address\"):\n",
    "        address=kwargs.get(\"address\")\n",
    "        print(f'delivering to {address}')\n",
    "    "
   ]
  },
  {
   "cell_type": "code",
   "execution_count": 79,
   "metadata": {},
   "outputs": [
    {
     "name": "stdout",
     "output_type": "stream",
     "text": [
      "hello eren\n",
      "you ordered sushi\n",
      "delivering to gb road\n"
     ]
    }
   ],
   "source": [
    "funct(\"eren\",\"sushi\",address=\"gb road\")"
   ]
  },
  {
   "cell_type": "code",
   "execution_count": 82,
   "metadata": {},
   "outputs": [
    {
     "data": {
      "text/plain": [
       "'hello the print(Sdsd) docstring'"
      ]
     },
     "execution_count": 82,
     "metadata": {},
     "output_type": "execute_result"
    }
   ],
   "source": [
    "#comments\n",
    "\"\"\"hello the print(Sdsd) docstring\"\"\"\n"
   ]
  },
  {
   "cell_type": "code",
   "execution_count": 113,
   "metadata": {},
   "outputs": [
    {
     "name": "stdout",
     "output_type": "stream",
     "text": [
      "49\n",
      "64\n",
      "36\n",
      "49\n",
      "2401\n",
      "[49, 64, 36, 49, 2401]\n",
      "['maniac', 'meat lover', 'fighter', 'believer', 'not found']\n"
     ]
    }
   ],
   "source": [
    "#map() function loop through iterable and apply function to every element in the ieterable\n",
    "\n",
    "nums=[2,3,6,7,54]\n",
    "\n",
    "def square(num):\n",
    "    if num > 5:\n",
    "        num=num-5\n",
    "    if num <5:\n",
    "        num=num+5\n",
    "    return num**2\n",
    "\n",
    "for new_num in map(square,nums):\n",
    "    print(new_num)\n",
    "\n",
    "#list comprehension takes in for loop for appending a list elements \n",
    "num_list=[new_n for new_n in map(square,nums)]\n",
    "print(num_list)\n",
    "\n",
    "names=[\"eren\",\"sasHa\",\"mikAsa\",\"jOKer\",\"kalob\"]\n",
    "\n",
    "def name_cap(name):\n",
    "    name=name.lower()\n",
    "    if name==\"eren\":\n",
    "        return \"maniac\"\n",
    "    elif name==\"sasha\":\n",
    "        return \"meat lover\"\n",
    "    elif name==\"mikasa\":\n",
    "        return \"fighter\"\n",
    "    elif name==\"joker\":\n",
    "        return \"believer\"\n",
    "    else:\n",
    "        return \"not found\"\n",
    "\n",
    "new_name=[new_nn for new_nn in map(name_cap,names)]\n",
    "\n",
    "\n",
    "print(new_name)\n",
    "\n",
    "\n"
   ]
  },
  {
   "cell_type": "code",
   "execution_count": 112,
   "metadata": {},
   "outputs": [
    {
     "name": "stdout",
     "output_type": "stream",
     "text": [
      "maniac\n",
      "meat lover\n",
      "fighter\n",
      "believer\n",
      "not found\n",
      "[None, None, None, None, None]\n"
     ]
    }
   ],
   "source": [
    "new_name2=[]  \n",
    "for n in map(name_cap,names):\n",
    "    new_name2.append(n)\n",
    "\n",
    "print(new_name2)\n",
    "\n"
   ]
  },
  {
   "cell_type": "code",
   "execution_count": 115,
   "metadata": {},
   "outputs": [
    {
     "name": "stdout",
     "output_type": "stream",
     "text": [
      "['maniac', 'meat lover', 'fighter', 'believer', 'not found']\n"
     ]
    }
   ],
   "source": [
    "#type casting the map function into the variable for easier push \n",
    "new_names3=list(map(name_cap,names))\n",
    "print(new_names3)"
   ]
  },
  {
   "cell_type": "code",
   "execution_count": 3,
   "metadata": {},
   "outputs": [
    {
     "name": "stdout",
     "output_type": "stream",
     "text": [
      "2\n",
      "4\n",
      "6\n",
      "8\n",
      "10\n",
      "[2, 4, 6, 8, 10]\n"
     ]
    }
   ],
   "source": [
    "#filter takes in function and iterables \n",
    "\n",
    "def evens(nums):\n",
    "    return nums%2==0\n",
    "\n",
    "nums=[1,2,3,4,5,6,7,8,9,10]\n",
    "\n",
    "for num in filter(evens,nums):\n",
    "    print(num)\n",
    "    \n",
    "even=list(filter(evens,nums))\n",
    "print(even)"
   ]
  },
  {
   "cell_type": "code",
   "execution_count": 6,
   "metadata": {},
   "outputs": [
    {
     "data": {
      "text/plain": [
       "12"
      ]
     },
     "execution_count": 6,
     "metadata": {},
     "output_type": "execute_result"
    }
   ],
   "source": [
    "#lambda are simple shortest one time function\n",
    "\n",
    "square=lambda num:num**2\n",
    "\n",
    "multiply=lambda num1,num2: (num1*num2)\n",
    "\n",
    "square(4)\n",
    "\n",
    "multiply(3,4)\n"
   ]
  },
  {
   "cell_type": "code",
   "execution_count": 6,
   "metadata": {},
   "outputs": [],
   "source": [
    "#scoping legb\n",
    "#so use argument default value for better code\n",
    "\n",
    "name=\"eren\" #globaly declared variable\n",
    "\n",
    "\n",
    "def myname():\n",
    "    #try to use default argument value for easier code\n",
    "    name=\"zeke\" #enclosed variable\n",
    "    return name\n",
    "\n",
    "course=\"python\"\n",
    "\n",
    "def courses():\n",
    "    course=\"java\" #enclosed\n",
    "    def courses_one():\n",
    "        course=\"script\" #local variable\n",
    "        print(course)\n",
    "\n",
    "#scoping value for function always goes for local variable then to enclosed and to the global\n",
    "courses()"
   ]
  },
  {
   "cell_type": "code",
   "execution_count": null,
   "metadata": {},
   "outputs": [],
   "source": []
  },
  {
   "cell_type": "code",
   "execution_count": null,
   "metadata": {},
   "outputs": [],
   "source": []
  }
 ],
 "metadata": {
  "kernelspec": {
   "display_name": "Python 3",
   "language": "python",
   "name": "python3"
  },
  "language_info": {
   "codemirror_mode": {
    "name": "ipython",
    "version": 3
   },
   "file_extension": ".py",
   "mimetype": "text/x-python",
   "name": "python",
   "nbconvert_exporter": "python",
   "pygments_lexer": "ipython3",
   "version": "3.8.3"
  }
 },
 "nbformat": 4,
 "nbformat_minor": 4
}
