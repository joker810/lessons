{
 "cells": [
  {
   "cell_type": "markdown",
   "metadata": {},
   "source": [
    "##input field\n",
    "printing and fstrings\n"
   ]
  },
  {
   "cell_type": "code",
   "execution_count": 1,
   "metadata": {},
   "outputs": [
    {
     "name": "stdout",
     "output_type": "stream",
     "text": [
      "hello eren, welcome to python\n"
     ]
    }
   ],
   "source": [
    "name=\"eren\"\n",
    "course=\"python\"\n",
    "print(\"hello {}, welcome to {}\".format(name,course))"
   ]
  },
  {
   "cell_type": "code",
   "execution_count": null,
   "metadata": {},
   "outputs": [],
   "source": [
    "user=input(\"enter name?\")\n",
    "f\"hello {user.upper()}\""
   ]
  },
  {
   "cell_type": "markdown",
   "metadata": {},
   "source": [
    "#lists and methods\n"
   ]
  },
  {
   "cell_type": "code",
   "execution_count": 28,
   "metadata": {},
   "outputs": [
    {
     "name": "stdout",
     "output_type": "stream",
     "text": [
      "['ram', 'shyam', 'nayan', 'dayan']\n",
      "dayan\n",
      "['ram', 'shyam']\n",
      "[[1, 2, 3], [4, 5, 6], [7, 8, 9]]\n",
      "['peter', 'pussycat', 'peter']\n",
      "2\n",
      "['ram', 'shyam', 'peter', 'pussycat', 'peter']\n",
      "['ram', 'shyam', 'peter', 'pussycat', 'peter', 1, 2, 3, 4, 5]\n",
      "2\n",
      "['ram', 'shyam', 'cherry', 'peter', 'pussycat', 'peter', 1, 2, 3, 4, 5]\n",
      "[5, 4, 3, 2, 1, 'peter', 'pussycat', 'peter', 'cherry', 'shyam', 'ram']\n"
     ]
    }
   ],
   "source": [
    "names=[\"ram\", \"shyam\" ,\"nayan\"]\n",
    "names.append(\"dayan\")\n",
    "#append adds element to end of the lists\n",
    "print(names)\n",
    "#pop removes the last element we can also assign the pop elements into variables\n",
    "#in pop position can be given it is optional. default is last value\n",
    "\n",
    "#remove() is used to remove specified element it may be set,tuple,list\n",
    "\n",
    "Dayan=names.pop()\n",
    "print(Dayan)\n",
    "\n",
    "names.pop()\n",
    "print(names)\n",
    "\n",
    "#we also put lists inside of list we have matrices \n",
    "\n",
    "matrix = [\n",
    "            [1,2,3],\n",
    "            [4,5,6],\n",
    "            [7,8,9]\n",
    "        ]\n",
    "print(matrix)\n",
    "\n",
    "#clear() clears all the element from the list\n",
    "\n",
    "#sort() sorts the element inside the list\n",
    "\n",
    "#copy() returns copy of the lists\n",
    "cats = [\"peter\",\"pussycat\" ,\"peter\"]\n",
    "x=cats.copy()\n",
    "print(x)\n",
    "\n",
    "#count() return count of specified value (value) is required\n",
    "print(cats.count(\"peter\"))\n",
    "\n",
    "#extend the list which may be tuples ,sets etc with another value simply joins the two entities to make a single lists\n",
    "names.extend(cats)\n",
    "print(names)\n",
    "\n",
    "num=(1,2,3,4,5)\n",
    "names.extend(num)\n",
    "print(names)\n",
    "\n",
    "#index() returns the index value of specied value which occurs first\n",
    "print(names.index(\"peter\"))\n",
    "\n",
    "#insert() it is used to enter the specified element at specified position \n",
    "#both position and value are needed\n",
    "names.insert(2,\"cherry\")\n",
    "print(names)\n",
    "\n",
    "#reverse() this reverse the list items no parameters.\n",
    "names.reverse()\n",
    "print(names)\n",
    "\n"
   ]
  },
  {
   "cell_type": "markdown",
   "metadata": {},
   "source": [
    "#dictionery "
   ]
  },
  {
   "cell_type": "code",
   "execution_count": 34,
   "metadata": {},
   "outputs": [
    {
     "name": "stdout",
     "output_type": "stream",
     "text": [
      "{'name': 'eren', 'age': 23, 'course': 'python for everybody', 'lists': [1, 2, 3], 'color': 'black'}\n",
      "{1: 0, 2: 0}\n",
      "dict_items([(1, 0), (2, 4), (3, 0)])\n",
      "0\n",
      "1\n",
      "black\n",
      "{'fruit': 'apple', 'num': 1, 'color': 'black', 'key': 'value'}\n",
      "fruit => apple\n",
      "num => 1\n",
      "color => black\n",
      "key => value\n"
     ]
    }
   ],
   "source": [
    "dicts={\n",
    "    'name':'eren',\n",
    "    'age': 23,\n",
    "    'course':'python for everybody',\n",
    "    'timespent':2.5,\n",
    "    'lists':[1,2,3]\n",
    "}\n",
    "\n",
    "#to add key value into dictionary simple use name of dictionary['key']='value'\n",
    "dicts['color']='black'\n",
    "#to delete use keyword del nameofdictionary['keyto delete']\n",
    "del dicts['timespent']\n",
    "print(dicts)\n",
    "\n",
    "#key() method return all the key name of dictionary\n",
    "dicts.keys()\n",
    "\n",
    "#values() returns all the values of dictionary\n",
    "dicts.values()\n",
    "\n",
    "#clear() clears the whole dictionary\n",
    "\n",
    "#get() is used to get the value of specified key\n",
    "#recieve_value=input(\"enter the key?\")\n",
    "#value=dicts.get(recieve_value,'not found')\n",
    "#print(value)\n",
    "\n",
    "#copy() return the copy of dictionary normally assigning a same dictionary contents into another variable\n",
    "\n",
    "#fromkeys() this is used to form a dictionary with keys and values \n",
    "#keys are required and value are optional default value is none.\n",
    "\n",
    "x={1,2,1}  #keys\n",
    "y=0     #values\n",
    "\n",
    "mydict=dict.fromkeys(x,y)\n",
    "print(mydict)\n",
    "\n",
    "#items() this retruns the key value pair in list in tuples when new update is done the method will be updated to\n",
    "#view object \n",
    "mydict[2]=4\n",
    "items=mydict.items()\n",
    "mydict[3]=0\n",
    "\n",
    "print(items)\n",
    "\n",
    "#pop() (key,value) key is required and parameter optional to pop a key from dictionary\n",
    "# assigning a pop method return the value\n",
    "\n",
    "pop=mydict.pop(3)\n",
    "print(pop)\n",
    "\n",
    "#popitems() removes the last added key value pair from the dictionary. before 3.7 random key value pair were removed\n",
    "#no parameters\n",
    "\n",
    "#setdefault() this method takes in parameter(key,value) key is required and value is optional\n",
    "#takes a key and return the value if the key doesn't excist takes value from parameter if parameter is not given default value is none.\n",
    "\n",
    "dictionary={\n",
    "    'fruit':'apple',\n",
    "    'num':1\n",
    "}\n",
    "\n",
    "x=dictionary.setdefault('num',2)\n",
    "print(x)\n",
    "y=dictionary.setdefault('color','black')\n",
    "print(y)\n",
    "\n",
    "#update() takes in iterables which may be lists tuples sets etc\n",
    "#updates the dictionary with new key value pairs\n",
    "\n",
    "dictionary.update({'key':'value'})\n",
    "print(dictionary)\n",
    "\n",
    "for keys , values in dictionary.items():\n",
    "    print(keys , \"=>\" ,values)\n"
   ]
  },
  {
   "cell_type": "code",
   "execution_count": 44,
   "metadata": {},
   "outputs": [
    {
     "name": "stdout",
     "output_type": "stream",
     "text": [
      "('apple', 'cherry', 'mangoe')\n"
     ]
    },
    {
     "data": {
      "text/plain": [
       "('apple', 'cherry', 'mangoe', 'cherry')"
      ]
     },
     "execution_count": 44,
     "metadata": {},
     "output_type": "execute_result"
    }
   ],
   "source": [
    "#tuples are immutable doesnt have duplicates but counts the duplicates\n",
    "\n",
    "tupls=('apple','cherry','mangoe','cherry')\n",
    "tupls.count('apple')\n",
    "tupls.index('mangoe')\n",
    "tupls.count('cherry')\n",
    "\n",
    "#slicing the tuples to remove the duplicates we cant use any other methdos\n",
    "#tupls.append('new') #error\n",
    "\n",
    "new_tupls=tupls[0:3]\n",
    "print(new_tupls)\n",
    "\n",
    "#deleting whole tuple with keyword del.\n",
    "del new_tupls\n",
    "tupls\n",
    "\n"
   ]
  },
  {
   "cell_type": "code",
   "execution_count": null,
   "metadata": {},
   "outputs": [],
   "source": []
  },
  {
   "cell_type": "code",
   "execution_count": null,
   "metadata": {},
   "outputs": [],
   "source": []
  },
  {
   "cell_type": "code",
   "execution_count": null,
   "metadata": {},
   "outputs": [],
   "source": []
  }
 ],
 "metadata": {
  "kernelspec": {
   "display_name": "Python 3",
   "language": "python",
   "name": "python3"
  },
  "language_info": {
   "codemirror_mode": {
    "name": "ipython",
    "version": 3
   },
   "file_extension": ".py",
   "mimetype": "text/x-python",
   "name": "python",
   "nbconvert_exporter": "python",
   "pygments_lexer": "ipython3",
   "version": "3.8.3"
  }
 },
 "nbformat": 4,
 "nbformat_minor": 4
}
