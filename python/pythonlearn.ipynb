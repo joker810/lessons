{
 "cells": [
  {
   "cell_type": "markdown",
   "metadata": {},
   "source": [
    "!py --version\n",
    "##version check"
   ]
  },
  {
   "cell_type": "markdown",
   "metadata": {},
   "source": [
    "##basic math ,arithmetic"
   ]
  },
  {
   "cell_type": "code",
   "execution_count": 6,
   "metadata": {},
   "outputs": [
    {
     "data": {
      "text/plain": [
       "-5"
      ]
     },
     "execution_count": 6,
     "metadata": {},
     "output_type": "execute_result"
    }
   ],
   "source": [
    "5+10\n",
    "5-10"
   ]
  },
  {
   "cell_type": "code",
   "execution_count": 11,
   "metadata": {},
   "outputs": [
    {
     "data": {
      "text/plain": [
       "27"
      ]
     },
     "execution_count": 11,
     "metadata": {},
     "output_type": "execute_result"
    }
   ],
   "source": [
    "##exponents\n",
    "3**3\n"
   ]
  },
  {
   "cell_type": "code",
   "execution_count": 9,
   "metadata": {},
   "outputs": [
    {
     "data": {
      "text/plain": [
       "9.0"
      ]
     },
     "execution_count": 9,
     "metadata": {},
     "output_type": "execute_result"
    }
   ],
   "source": [
    "27/3\n"
   ]
  },
  {
   "cell_type": "code",
   "execution_count": 10,
   "metadata": {},
   "outputs": [
    {
     "data": {
      "text/plain": [
       "1"
      ]
     },
     "execution_count": 10,
     "metadata": {},
     "output_type": "execute_result"
    }
   ],
   "source": [
    "10%3"
   ]
  },
  {
   "cell_type": "markdown",
   "metadata": {},
   "source": [
    "##decalaring variables.\n"
   ]
  },
  {
   "cell_type": "code",
   "execution_count": 12,
   "metadata": {},
   "outputs": [
    {
     "name": "stdout",
     "output_type": "stream",
     "text": [
      "this is python\n"
     ]
    }
   ],
   "source": [
    "course = \"this is python\"\n",
    "print(course)"
   ]
  },
  {
   "cell_type": "code",
   "execution_count": 13,
   "metadata": {},
   "outputs": [
    {
     "name": "stdout",
     "output_type": "stream",
     "text": [
      "this is python-wagtail\n"
     ]
    }
   ],
   "source": [
    "course = \"this is python-wagtail\"\n",
    "print(course)"
   ]
  },
  {
   "cell_type": "markdown",
   "metadata": {},
   "source": [
    "code format and identation."
   ]
  },
  {
   "cell_type": "code",
   "execution_count": 17,
   "metadata": {},
   "outputs": [
    {
     "name": "stdout",
     "output_type": "stream",
     "text": [
      "hello there konichiwa\n",
      "None\n"
     ]
    }
   ],
   "source": [
    "def hello():\n",
    "    print(\"hello there konichiwa\")\n",
    "    \n",
    "course = \"new language\"\n",
    "print(hello())"
   ]
  },
  {
   "cell_type": "markdown",
   "metadata": {},
   "source": [
    "data types in python\n",
    "numerics\n",
    "sequence\n",
    "booleans\n",
    "dictionary\n",
    "\n",
    "numerics are int:integer\n",
    "float : decimal unit \n",
    "complex : exponential 5^57 (5**57)\n",
    "\n",
    "sequence : lists = [\"red\", 5 ,True ,{}]\n",
    "lists can have duplicates and stings,numbers,sets,dictionary etc\n",
    "\n",
    "tuple = (\"red\",blue,3,True,{},[],()_) \n",
    "\n",
    "string = \"welcome to home\"\n",
    "\n",
    "sets ={\"red\",4,{},[],}\n",
    "doesnt allow duplicates only one values\n",
    "and doesn't print in order as declared\n",
    "\n",
    "dictionary is objects which has key and value pair this also dont allow duplicates\n",
    "we can all the data type\n",
    "dict={\"name\"=\"ram\",\"age\"=3, sets ={\"red\",blue,4,{},[],}, \"boolean\"= True}\n",
    "\n"
   ]
  },
  {
   "cell_type": "code",
   "execution_count": 43,
   "metadata": {},
   "outputs": [
    {
     "name": "stdout",
     "output_type": "stream",
     "text": [
      "5 3.4 ['red', 5, True, 5, ['array'], ['array']] ('red', True, 5, 5, (4, 5, 6, 7)) {(4, 5, 6, 7, 3), True, 'red', 5} {'age': 3, 'name': 'samuel', 'sets': {True, (4, 5, 6, 7, 3, 3), 'red', 5}, 'boolean': True}\n"
     ]
    }
   ],
   "source": [
    "int = 5\n",
    "float = 3.4\n",
    "\n",
    "lists = [\"red\", 5 ,True,5,[\"array\"],['array']]\n",
    "tuple=(\"red\",True,5,5,(4,5,6,7))\n",
    "sets={\"red\",True,5,5,(4,5,6,7,3)}\n",
    "\n",
    "dict = {\n",
    "    \"age\" : 3,\n",
    "    'name':'samuel',\n",
    "    \"sets\":{\"red\",True,5,5,(4,5,6,7,3)},\n",
    "    \"sets\":{\"red\",True,5,5,(4,5,6,7,3,3)},\n",
    "    \"boolean\":True\n",
    "}\n",
    "print(int,float,lists,tuple,sets,dict)\n"
   ]
  },
  {
   "cell_type": "code",
   "execution_count": 57,
   "metadata": {},
   "outputs": [
    {
     "name": "stdout",
     "output_type": "stream",
     "text": [
      "['red', 5, True, 5, ['array'], ['array'], 'hero']\n",
      "hello \n",
      "HELLO \n"
     ]
    }
   ],
   "source": [
    "#mutable\n",
    "lists = [\"red\", 5 ,True,5,[\"array\"],['array']]\n",
    "lists.append('hero')\n",
    "print(lists)\n",
    "\n",
    "#immutable\n",
    "tuple=(\"red\",True,5,5,(4,5,6,7))\n",
    "tuple.index(5)\n",
    "#tuple.append(\"hero\") doent work\n",
    "\n",
    "#immutable though.\n",
    "string = \"hello \"\n",
    "string.upper()\n",
    "print(string)\n",
    "string=string.upper()\n",
    "print(string)"
   ]
  },
  {
   "cell_type": "code",
   "execution_count": 75,
   "metadata": {},
   "outputs": [
    {
     "name": "stdout",
     "output_type": "stream",
     "text": [
      "100000000 (10, 10, 10, 10) 67565667.67 (4546, 3434, 43.56)\n"
     ]
    },
    {
     "data": {
      "text/plain": [
       "tuple"
      ]
     },
     "execution_count": 75,
     "metadata": {},
     "output_type": "execute_result"
    }
   ],
   "source": [
    "number= 100_00_00_00\n",
    "age= 10,10,10,10\n",
    "floats=6756_5667.67\n",
    "large_floats=4546,3434,43.56\n",
    "print(number,age,floats,large_floats)\n",
    "type(age)\n"
   ]
  },
  {
   "cell_type": "markdown",
   "metadata": {},
   "source": [
    "##sequence in strings\n",
    "\n",
    "string can use double quotes ,single and triple single and double quotes or \\ (backword slash)\n",
    "\"string's\"\n",
    "'string\"s'\n",
    "\"\"\"string's\"\"\"\n",
    "'string\\'s'\n",
    "\\n is the new line\n",
    "\n",
    "string =(\n",
    "    \"new\" \n",
    "    \"code\" \n",
    "    \":iS\" \n",
    "    \"set\"\n",
    ")\n",
    "this is concatinaton\n",
    "\n",
    "string={\n",
    "this \n",
    "is\n",
    "new\n",
    "line\n",
    "}\n"
   ]
  },
  {
   "cell_type": "code",
   "execution_count": 98,
   "metadata": {},
   "outputs": [
    {
     "name": "stdout",
     "output_type": "stream",
     "text": [
      "string's string\"s string's ('one', 'two', 'three') string's stng's hello there \n",
      "hello\n",
      "there\n",
      "\n",
      "p\n",
      "y\n",
      "t\n",
      "h\n",
      "o\n",
      "n\n"
     ]
    }
   ],
   "source": [
    "strings=\"string's\"\n",
    "one='string\"s'\n",
    "two='string\\'s'\n",
    "three=\"one\",\"two\",\"three\"\n",
    "four=\"\"\"string's\"\"\"\n",
    "five='''stng's'''\n",
    "greeting=(\n",
    "    \"hello \"\n",
    "    \"there\"\n",
    ")\n",
    "docs=\"\"\"\n",
    "hello\n",
    "there\n",
    "\"\"\"\n",
    "print(strings,one,two,three,four,five,greeting,docs)\n",
    "\n",
    "word=\"python\"\n",
    "for letter in word:\n",
    "    print(letter)"
   ]
  },
  {
   "cell_type": "code",
   "execution_count": 99,
   "metadata": {},
   "outputs": [
    {
     "name": "stdout",
     "output_type": "stream",
     "text": [
      "egg\n",
      "milk\n",
      "almond\n",
      "45\n",
      "True\n"
     ]
    }
   ],
   "source": [
    "#lists or sets or tuple\n",
    "groceries=['egg','milk','almond',45,True]\n",
    "for item in groceries:\n",
    "    print(item)"
   ]
  },
  {
   "cell_type": "code",
   "execution_count": 103,
   "metadata": {},
   "outputs": [
    {
     "name": "stdout",
     "output_type": "stream",
     "text": [
      "cherry\n",
      "['cherry', 'banana', 'mangoes', 'guava']\n"
     ]
    }
   ],
   "source": [
    "#indexing and slicing\n",
    "lst=[\"apple\",\"cherry\",\"banana\",\"mangoes\",\"guava\",\"orange\"]\n",
    "print(lst[1])\n",
    "print(lst[-5:-1])\n",
    "#ending value of slicing dont show up"
   ]
  },
  {
   "cell_type": "code",
   "execution_count": 2,
   "metadata": {},
   "outputs": [
    {
     "name": "stdout",
     "output_type": "stream",
     "text": [
      "['apple', 'cherry', 'mangoe']\n",
      "This Is Note B2B2B2B 2Nd For Title Method\n",
      "Sting method capitalize\n",
      "this is new area\n",
      "@@@@center align@@@@\n",
      "2\n",
      "b'My name is Stle'\n",
      "True\n",
      "h   e   l   l   o\n",
      "26\n",
      "my name is siri and iam 23.00\n",
      "my name is 30 and iam eren\n",
      "my name is eren and you are doctor\n",
      "11\n"
     ]
    }
   ],
   "source": [
    "#function and string methods\n",
    "\n",
    "name=\"rajesh\"\n",
    "type(name)\n",
    "len(name)\n",
    "name.upper()\n",
    "\n",
    "\n",
    "#split method is used to split string into list\n",
    "#rsplit is from the right\n",
    "\n",
    "lists=\"apple cherry mangoe\"\n",
    "k=lists.split()\n",
    "print(k)\n",
    "\n",
    "#title method is used to convert first letter from very word of alphabet to capital\n",
    "title=\"this is note b2b2b2b 2nd for title method\"\n",
    "t=title.title()\n",
    "print(t)\n",
    "\n",
    "\n",
    "#capitalize is used to get first character of sentence to capital and making the rest small letters\n",
    "#if the sentence starts with number it is ignored.\n",
    "sentce=\"sting method CAPITALIZE\"\n",
    "capt=sentce.capitalize()\n",
    "print(capt)\n",
    "\n",
    "#casefold() this methods returns all the string to lower case just like lower() but much stronger for bigger length and better string comparision\n",
    "sentc=\"this is NEW Area\"\n",
    "casef=sentc.casefold()\n",
    "print(casef)\n",
    "\n",
    "#center() this method is used to center align the string with parameter length and element to fill with (space is default)\n",
    "sentence=\"center align\"\n",
    "center=sentence.center(20,\"@\")\n",
    "print(center)\n",
    "\n",
    "#count(string,stringindex start,end) this method is used to count character or word in that string\n",
    "sentences=\"hello there, there is count method\"\n",
    "count=sentences.count(\"there\")\n",
    "print(count)\n",
    "\n",
    "#encode(encoding=\"ascii\",errors=\"ignore\") return or encodes the string which is specified or default is utf 8\n",
    "words=\"My name is Ståle\"\n",
    "encode=words.encode()\n",
    "encode=words.encode(encoding=\"ascii\",errors=\"ignore\")\n",
    "#ignors if it cannot encode\n",
    "#backslashreplace replaces the with backslash when it cant encode\n",
    "#namereplace replace with text explaining the character noencode\n",
    "#strict default raises an error on failure\n",
    "#replace this replace with question mark\n",
    "#xmlcharrefreplace  replaces with xml character\n",
    "print(encode)\n",
    "\n",
    "\n",
    "#endswith(\"string\",startendex,end)  this returns true or false when searching a string\n",
    "wordstwo=\"Hello, this is endswith method.\"\n",
    "endswith=wordstwo.endswith(\".\",30,31)\n",
    "print(endswith)\n",
    "\n",
    "#exapndtabs() /t this gives value for whitespaces when used \\t in number default is 8\n",
    "words_exp=\"h\\te\\tl\\tl\\to\"\n",
    "expandtabs=words_exp.expandtabs(4)\n",
    "print(expandtabs)\n",
    "\n",
    "#find() this methods find index value or position of string searched this return -1 when not found.\n",
    "words_find=\"Hello, this is find method.\"\n",
    "find=words_find.find(\".\")\n",
    "print(find)\n",
    "\n",
    "#format(value) this method is used to store data for the placeholder which is {}\n",
    "#value can be any datatype and placeholder holds name number or empty braces\n",
    "#formatting types .2f decimal two fixed points, :^ center align\n",
    "word_format=\"my name is {fn} and iam {age:.2f}\"\n",
    "formats=word_format.format(fn=\"siri\",age=23)\n",
    "print(formats)\n",
    "\n",
    "word_fort=\"my name is {1} and iam {0}\"\n",
    "formt=word_fort.format(\"eren\",30)\n",
    "print(formt)\n",
    "\n",
    "#format_map() it is a dictionary method to map target values\n",
    "a={'x':\"eren\",'y':\"doctor\"}\n",
    "words_map=\"my name is {x} and you are {y}\"\n",
    "format_map=words_map.format_map(a)\n",
    "print(format_map)\n",
    "\n",
    "#index(\"\",start,end) this used to find position of specified element this method gives error when not found\n",
    "word_index=\"iam not good\"\n",
    "index=word_index.index(\"d\")\n",
    "print(index)\n",
    "\n",
    "\n",
    "\n"
   ]
  },
  {
   "cell_type": "code",
   "execution_count": 39,
   "metadata": {},
   "outputs": [
    {
     "name": "stdout",
     "output_type": "stream",
     "text": [
      "apple#mangoes#sherry\n",
      "banana@@@@@@@@@@@@@@ this is a fruit\n",
      " .ban na\n",
      "this is mr Soe\n",
      "hi Sm  i\n"
     ]
    }
   ],
   "source": [
    "#this is used to join a tuple into a string.\n",
    "words_join=(\"apple\",\"mangoes\",\"sherry\")\n",
    "join=\"#\".join(words_join)\n",
    "print(join)\n",
    "\n",
    "#this is a center but we left justify with count and seperator ljust(10,\"@\")\n",
    "#the seperator is optional.\n",
    "words_ljust=(\"banana\")\n",
    "ljust=words_ljust.ljust(20,\"@\")\n",
    "print(ljust,\"this is a fruit\")\n",
    "\n",
    "\n",
    "#translate() this method is used to translate a specified string to another\n",
    "#maketrans it is mapping to translate specified keyword in string and remove a specified keyword\n",
    "#maketrans() returns a mapping table for translate() to replace.\n",
    "#only maketrans() return a unicode dictionary\n",
    "#makettrans() takes 3 parameter 1: which is replaced (Required) 2: the replacing value 3: the element to be removed.\n",
    "words_trans=\"this is mr Joe\"\n",
    "words_maketrans=words_trans.maketrans(\"J\",\"S\")\n",
    "print(words_trans.translate(words_maketrans))\n",
    "\n",
    "words_one=\"hi Joe good morning\"\n",
    "x=\"Joe\"\n",
    "y=\"Sam\"\n",
    "z=\"odmrng\"\n",
    "maketrans=words_one.maketrans(x,y,z)\n",
    "print(words_one.translate(maketrans))\n",
    "\n",
    "\n",
    "\n"
   ]
  },
  {
   "cell_type": "code",
   "execution_count": 55,
   "metadata": {},
   "outputs": [
    {
     "name": "stdout",
     "output_type": "stream",
     "text": [
      "True\n",
      "True\n",
      "True\n",
      "False\n",
      "3\n",
      "True\n",
      "True\n",
      "False\n",
      "False\n",
      "('this is the partition string', '', '')\n",
      "this is apples and apples and oranges\n",
      "16\n",
      " .ban na\n",
      "['this is the ', ' line this is not ', ' new line']\n",
      "tHIS IS The sTRING\n",
      "0000000050\n",
      "this is zfill \n"
     ]
    }
   ],
   "source": [
    "##boolean\n",
    "#isalphanumeric() isalnum() this return true or false the string must be a-z and 0-1 \n",
    "alnum_words=\"company12\"\n",
    "print(alnum_words.isalnum())\n",
    "\n",
    "#isalpha return true or false if the string is alpha a-z not numbers and special chracters\n",
    "alpha_words=\"companyZ\"\n",
    "print(alpha_words.isalpha())\n",
    "\n",
    "#isascii() return true if the given string ascii\n",
    "\n",
    "#isdecimal() return true if all element are decimal 0-9\n",
    "#unicode \n",
    "words_decimal=\"\\u0033\"\n",
    "words_decimal1=\"\\u0047\" #unicode for G\n",
    "print(words_decimal.isdecimal())\n",
    "print(words_decimal1.isdecimal())\n",
    "print(\"\\u0033\")\n",
    "\n",
    "#isdigit() return true if the string is digit 0-9 and exponents and square\n",
    "words_digit=\"\\u00B2\" #unicode for ²\"\n",
    "print(words_digit.isdigit())\n",
    "\n",
    "#isidentifier return true or false the string contains a-z and numbers 0-9 and underscores\n",
    "#a valid identifier doesn't start with number and have spaces\n",
    "words_identifier=\"company_1\"\n",
    "words_identifier1=\"1ompany 23\"\n",
    "print(words_identifier.isidentifier())\n",
    "print(words_identifier1.isidentifier())\n",
    "\n",
    "#printable() returns true or false if the string is printable and false if not (example \\n)\n",
    "\n",
    "#isnumeric() returns true or false if all the string is numeric\n",
    "\n",
    "#isspace() returns true or false if all the string is empty space .if there is character between returns false.\n",
    "\n",
    "#islower() returns true or false if all the string is in lower case\n",
    "\n",
    "#isupper() returns true or false if all the string is upper case\n",
    "\n",
    "#istitle() return true or false if the string follow the title() rule every word in string must have capital letter and rest be smaller\n",
    "words_title=\"Tis is 23The /,Ty\"\n",
    "print(words_title.istitle())\n",
    "\n",
    "#partition() this return the string in 3 parts with strating of string 2: specified string 3: the rest of the string\n",
    "# if the partition(value) is not found still returns the 3 parts with whole string ,2:empty,3:empty.\n",
    "#3 parts in tuple.\n",
    "words_partition=\"this is the partition string\"\n",
    "partition=words_partition.partition(\"partition\")\n",
    "partition=words_partition.partition(\"apples\")\n",
    "print(partition)\n",
    "\n",
    "#replace() has 3 parameters 1:old value 2: new value 3: count how many times to changes the value default is all occurences.\n",
    "words_replace=\"this is oranges and oranges and oranges\"\n",
    "replace=words_replace.replace(\"oranges\",\"apples\",2)\n",
    "print(replace)\n",
    "\n",
    "#rfind and rindex() return the value to find has 3 parameters required value index to find 2: start 3:end\n",
    "#from the end or right side of string last value rfind returns -1 if not found and rindex returns error\n",
    "word_rfind=\"this is one and one\"\n",
    "rfind=word_rfind.rfind(\"one\")\n",
    "print(rfind)\n",
    "\n",
    "#lstript to remove the character at the left side spaces are default value to remove the values can be optional\n",
    "#rstrip and strip()\n",
    "words_lstrip=\"aasspp,.. .ban na\"\n",
    "lstrip=words_lstrip.lstrip(\"asp,.\")\n",
    "print(lstrip)\n",
    "\n",
    "#splitlines splits the string into lists here the at the line breaks \\n\n",
    "#the line brakes can be ignores splitlines(keeplinebreaks) true or false false is default\n",
    "word_splitline=\"this is the \\n line this is not \\n new line\"\n",
    "splitlines=word_splitline.splitlines(True)\n",
    "splitlines=word_splitline.splitlines()\n",
    "print(splitlines)\n",
    "\n",
    "#swapcase this method return uppercase to lower and viceversa\n",
    "words_swap=\"This is tHE String\"\n",
    "swap=words_swap.swapcase()\n",
    "print(swap)\n",
    "\n",
    "#zfill file the index to specified number with zero if the value already at sepecified value no changes will be made.\n",
    "words_fill=\"50\"\n",
    "words_fill1=\"this is zfill \"\n",
    "x=words_fill.zfill(10)\n",
    "y=words_fill1.zfill(10)\n",
    "print(x)\n",
    "print(y)"
   ]
  },
  {
   "cell_type": "code",
   "execution_count": 62,
   "metadata": {},
   "outputs": [
    {
     "name": "stdout",
     "output_type": "stream",
     "text": [
      "enter your name?23\n",
      "23\n"
     ]
    },
    {
     "data": {
      "text/plain": [
       "str"
      ]
     },
     "execution_count": 62,
     "metadata": {},
     "output_type": "execute_result"
    }
   ],
   "source": [
    "#input this is function takes input from the user always a string\n",
    "name=input(\"enter your name?\")\n",
    "print(name)\n",
    "type(name)\n"
   ]
  },
  {
   "cell_type": "code",
   "execution_count": null,
   "metadata": {},
   "outputs": [],
   "source": [
    "#printing format\n",
    "course=\"python for everybody\"\n",
    "name=\"eren\"\n",
    "course=\"python for everybody\"\n",
    "name=\"eren\"\n",
    "print=(\"hello {} ,welcome to {}\".format(name,course))\n",
    "\n",
    "\n",
    "##f-string is shortform of format here we dont want the function format\n",
    "user_name=input(\"enter your name?\")\n",
    "f\"hello {user_name.upper()} , welcome to {course}\""
   ]
  },
  {
   "cell_type": "code",
   "execution_count": null,
   "metadata": {},
   "outputs": [],
   "source": []
  },
  {
   "cell_type": "code",
   "execution_count": null,
   "metadata": {},
   "outputs": [],
   "source": []
  }
 ],
 "metadata": {
  "kernelspec": {
   "display_name": "Python 3",
   "language": "python",
   "name": "python3"
  },
  "language_info": {
   "codemirror_mode": {
    "name": "ipython",
    "version": 3
   },
   "file_extension": ".py",
   "mimetype": "text/x-python",
   "name": "python",
   "nbconvert_exporter": "python",
   "pygments_lexer": "ipython3",
   "version": "3.8.3"
  }
 },
 "nbformat": 4,
 "nbformat_minor": 4
}
