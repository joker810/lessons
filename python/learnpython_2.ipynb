{
 "cells": [
  {
   "cell_type": "markdown",
   "metadata": {},
   "source": [
    "##input field\n",
    "printing and fstrings\n"
   ]
  },
  {
   "cell_type": "code",
   "execution_count": 1,
   "metadata": {},
   "outputs": [
    {
     "name": "stdout",
     "output_type": "stream",
     "text": [
      "hello eren, welcome to python\n"
     ]
    }
   ],
   "source": [
    "name=\"eren\"\n",
    "course=\"python\"\n",
    "print(\"hello {}, welcome to {}\".format(name,course))"
   ]
  },
  {
   "cell_type": "code",
   "execution_count": null,
   "metadata": {},
   "outputs": [],
   "source": [
    "user=input(\"enter name?\")\n",
    "f\"hello {user.upper()}\""
   ]
  },
  {
   "cell_type": "markdown",
   "metadata": {},
   "source": [
    "#lists and methods\n"
   ]
  },
  {
   "cell_type": "code",
   "execution_count": 28,
   "metadata": {},
   "outputs": [
    {
     "name": "stdout",
     "output_type": "stream",
     "text": [
      "['ram', 'shyam', 'nayan', 'dayan']\n",
      "dayan\n",
      "['ram', 'shyam']\n",
      "[[1, 2, 3], [4, 5, 6], [7, 8, 9]]\n",
      "['peter', 'pussycat', 'peter']\n",
      "2\n",
      "['ram', 'shyam', 'peter', 'pussycat', 'peter']\n",
      "['ram', 'shyam', 'peter', 'pussycat', 'peter', 1, 2, 3, 4, 5]\n",
      "2\n",
      "['ram', 'shyam', 'cherry', 'peter', 'pussycat', 'peter', 1, 2, 3, 4, 5]\n",
      "[5, 4, 3, 2, 1, 'peter', 'pussycat', 'peter', 'cherry', 'shyam', 'ram']\n"
     ]
    }
   ],
   "source": [
    "names=[\"ram\", \"shyam\" ,\"nayan\"]\n",
    "names.append(\"dayan\")\n",
    "#append adds element to end of the lists\n",
    "print(names)\n",
    "#pop removes the last element we can also assign the pop elements into variables\n",
    "#in pop position can be given it is optional. default is last value\n",
    "\n",
    "#remove() is used to remove specified element it may be set,tuple,list\n",
    "\n",
    "Dayan=names.pop()\n",
    "print(Dayan)\n",
    "\n",
    "names.pop()\n",
    "print(names)\n",
    "\n",
    "#we also put lists inside of list we have matrices \n",
    "\n",
    "matrix = [\n",
    "            [1,2,3],\n",
    "            [4,5,6],\n",
    "            [7,8,9]\n",
    "        ]\n",
    "print(matrix)\n",
    "\n",
    "#clear() clears all the element from the list\n",
    "\n",
    "#sort() sorts the element inside the list\n",
    "\n",
    "#copy() returns copy of the lists\n",
    "cats = [\"peter\",\"pussycat\" ,\"peter\"]\n",
    "x=cats.copy()\n",
    "print(x)\n",
    "\n",
    "#count() return count of specified value (value) is required\n",
    "print(cats.count(\"peter\"))\n",
    "\n",
    "#extend the list which may be tuples ,sets etc with another value simply joins the two entities to make a single lists\n",
    "names.extend(cats)\n",
    "print(names)\n",
    "\n",
    "num=(1,2,3,4,5)\n",
    "names.extend(num)\n",
    "print(names)\n",
    "\n",
    "#index() returns the index value of specied value which occurs first\n",
    "print(names.index(\"peter\"))\n",
    "\n",
    "#insert() it is used to enter the specified element at specified position \n",
    "#both position and value are needed\n",
    "names.insert(2,\"cherry\")\n",
    "print(names)\n",
    "\n",
    "#reverse() this reverse the list items no parameters.\n",
    "names.reverse()\n",
    "print(names)\n",
    "\n"
   ]
  },
  {
   "cell_type": "markdown",
   "metadata": {},
   "source": [
    "#dictionery "
   ]
  },
  {
   "cell_type": "code",
   "execution_count": 34,
   "metadata": {},
   "outputs": [
    {
     "name": "stdout",
     "output_type": "stream",
     "text": [
      "{'name': 'eren', 'age': 23, 'course': 'python for everybody', 'lists': [1, 2, 3], 'color': 'black'}\n",
      "{1: 0, 2: 0}\n",
      "dict_items([(1, 0), (2, 4), (3, 0)])\n",
      "0\n",
      "1\n",
      "black\n",
      "{'fruit': 'apple', 'num': 1, 'color': 'black', 'key': 'value'}\n",
      "fruit => apple\n",
      "num => 1\n",
      "color => black\n",
      "key => value\n"
     ]
    }
   ],
   "source": [
    "dicts={\n",
    "    'name':'eren',\n",
    "    'age': 23,\n",
    "    'course':'python for everybody',\n",
    "    'timespent':2.5,\n",
    "    'lists':[1,2,3]\n",
    "}\n",
    "\n",
    "#to add key value into dictionary simple use name of dictionary['key']='value'\n",
    "dicts['color']='black'\n",
    "#to delete use keyword del nameofdictionary['keyto delete']\n",
    "del dicts['timespent']\n",
    "print(dicts)\n",
    "\n",
    "#key() method return all the key name of dictionary\n",
    "dicts.keys()\n",
    "\n",
    "#values() returns all the values of dictionary\n",
    "dicts.values()\n",
    "\n",
    "#clear() clears the whole dictionary\n",
    "\n",
    "#get() is used to get the value of specified key\n",
    "#recieve_value=input(\"enter the key?\")\n",
    "#value=dicts.get(recieve_value,'not found')\n",
    "#print(value)\n",
    "\n",
    "#copy() return the copy of dictionary normally assigning a same dictionary contents into another variable\n",
    "\n",
    "#fromkeys() this is used to form a dictionary with keys and values \n",
    "#keys are required and value are optional default value is none.\n",
    "\n",
    "x={1,2,1}  #keys\n",
    "y=0     #values\n",
    "\n",
    "mydict=dict.fromkeys(x,y)\n",
    "print(mydict)\n",
    "\n",
    "#items() this retruns the key value pair in list in tuples when new update is done the method will be updated to\n",
    "#view object \n",
    "mydict[2]=4\n",
    "items=mydict.items()\n",
    "mydict[3]=0\n",
    "\n",
    "print(items)\n",
    "\n",
    "#pop() (key,value) key is required and parameter optional to pop a key from dictionary\n",
    "# assigning a pop method return the value\n",
    "\n",
    "pop=mydict.pop(3)\n",
    "print(pop)\n",
    "\n",
    "#popitems() removes the last added key value pair from the dictionary. before 3.7 random key value pair were removed\n",
    "#no parameters\n",
    "\n",
    "#setdefault() this method takes in parameter(key,value) key is required and value is optional\n",
    "#takes a key and return the value if the key doesn't excist takes value from parameter if parameter is not given default value is none.\n",
    "\n",
    "dictionary={\n",
    "    'fruit':'apple',\n",
    "    'num':1\n",
    "}\n",
    "\n",
    "x=dictionary.setdefault('num',2)\n",
    "print(x)\n",
    "y=dictionary.setdefault('color','black')\n",
    "print(y)\n",
    "\n",
    "#update() takes in iterables which may be lists tuples sets etc\n",
    "#updates the dictionary with new key value pairs\n",
    "\n",
    "dictionary.update({'key':'value'})\n",
    "print(dictionary)\n",
    "\n",
    "for keys , values in dictionary.items():\n",
    "    print(keys , \"=>\" ,values)\n"
   ]
  },
  {
   "cell_type": "code",
   "execution_count": 44,
   "metadata": {},
   "outputs": [
    {
     "name": "stdout",
     "output_type": "stream",
     "text": [
      "('apple', 'cherry', 'mangoe')\n"
     ]
    },
    {
     "data": {
      "text/plain": [
       "('apple', 'cherry', 'mangoe', 'cherry')"
      ]
     },
     "execution_count": 44,
     "metadata": {},
     "output_type": "execute_result"
    }
   ],
   "source": [
    "#tuples are immutable doesnt have duplicates but counts the duplicates\n",
    "\n",
    "tupls=('apple','cherry','mangoe','cherry')\n",
    "tupls.count('apple')\n",
    "tupls.index('mangoe')\n",
    "tupls.count('cherry')\n",
    "\n",
    "#slicing the tuples to remove the duplicates we cant use any other methdos\n",
    "#tupls.append('new') #error\n",
    "\n",
    "new_tupls=tupls[0:3]\n",
    "print(new_tupls)\n",
    "\n",
    "#deleting whole tuple with keyword del.\n",
    "del new_tupls\n",
    "tupls\n",
    "\n"
   ]
  },
  {
   "cell_type": "code",
   "execution_count": 42,
   "metadata": {},
   "outputs": [
    {
     "name": "stdout",
     "output_type": "stream",
     "text": [
      "{'bikes', 'truck', 'vans', 'airplane', 'cars'}\n",
      "{'cars', 'bikes', 'truck', 'vans', 'airplane'}\n",
      "{'mangoe', 'banana'}\n",
      "{'microsoft', 'samsung'}\n",
      "{'microsoft', 'samsung'}\n",
      "{'c'}\n",
      "set()\n",
      "intersection update\n",
      "{'c'}\n",
      "True\n",
      "False\n",
      "issubset\n",
      "True\n",
      "False\n",
      "is super set boolean\n",
      "True\n",
      "symmetric diff\n",
      "{'g', 'f', 'd', 'e'}\n",
      "{'f', 'd', 'e', 's', 'k'}\n",
      "{'g', 'f', 'd', 'e', 'c', 'b', 'a'}\n",
      "{'g', 'f', 'd', 'e', 'z', 'v', 'c', 'b', 'a'}\n"
     ]
    }
   ],
   "source": [
    "#set it a data type in python here every value is unique and dont have duplicates.\n",
    "#sets also dont hold order of stored data\n",
    "\n",
    "sets= {'cars','bus','truck','bikes','vans',}\n",
    "type(sets)\n",
    "\n",
    "#add() method to add a value into set\n",
    "sets.add('airplane')\n",
    "#remove() method to remove a value from set\n",
    "sets.remove('bus')\n",
    "print(sets)\n",
    "#pop() this method removes random value from the set , the value can also be assigned.\n",
    "\n",
    "#discard() method to remove specified item from the set this will not raise an error when specified element doesn't excist\n",
    "#method remove() raises error when specified value dont excist\n",
    "\n",
    "#clear() method removes all value from the set\n",
    "\n",
    "#copy() method retruns the copy of the set\n",
    "newsets=sets.copy()\n",
    "print(newsets)\n",
    "\n",
    "#difference() this method takes paramter(set) matches two sets the difference in first set is returned.\n",
    "#this method return new set with unique values compared without same values after comparision.\n",
    "set1={'apple','mangoe','banana',}\n",
    "set2={'microsoft','apple','samsung',}\n",
    "diff=set1.difference(set2)\n",
    "diff2=set2.difference(set1)\n",
    "print(diff)\n",
    "print(diff2)\n",
    "\n",
    "#difference_update(set) this method simply deletes the same element in compared sets and returns first set with deleted same value with difference init\n",
    "#do not need to declare new variable happens to the first set .\n",
    "setdu={'microsoft','apple','samsung',}\n",
    "setdu2={'apple','mangoe','banana',}\n",
    "setdu.difference_update(setdu2)\n",
    "print(setdu)\n",
    "\n",
    "#intersection(set1,set2) one set is required to compare this method returns the similar value from multiple sets compared\n",
    "set_inter={'a','b','c'}\n",
    "set_inters={'d','e','f','c',}\n",
    "set_inte={'g','h','i',}\n",
    "result1=set_inter.intersection(set_inters)\n",
    "result2=set_inter.intersection(set_inters,set_inte)\n",
    "print(result1)\n",
    "print(result2)\n",
    "\n",
    "#intersection_update(set1,sets2) takes in one required parameter to compare the set with original this method return original set without similar values after comparing\n",
    "print(\"intersection update\")\n",
    "set_in1={'a','b','c'}\n",
    "set_in2={'d','e','f','c',}\n",
    "set_in1.intersection_update(set_in2)\n",
    "print(set_in1)\n",
    "\n",
    "#boolean\n",
    "#isdisjoint returns true if campared set has no similarities and false if one of them mathes\n",
    "#takes in parameter for comparing\n",
    "set1={'a','b','c',}\n",
    "set2={'d','e','f','g',}\n",
    "set3={'d','e','f','g','c'}\n",
    "print(set1.isdisjoint(set2))\n",
    "print(set1.isdisjoint(set3))\n",
    "\n",
    "#issubset() takes in specified set when original set item matches the specified set it returns true if one of the value is missing it is false\n",
    "print(\"issubset\")\n",
    "s1={'a','b','c'}\n",
    "s2={'d','e','f','g','a','b','c'}\n",
    "s3={'d','e','f','g','a','b',}\n",
    "print(s1.issubset(s2))\n",
    "print(s1.issubset(s3))\n",
    "\n",
    "#issuperset() takes in specfied set where true/false is returned .specified set value must present on comparing set for true , if one of them is missing its false.\n",
    "print(\"is super set boolean\")\n",
    "ss1={'a','b','c'}\n",
    "ss2={'d','e','f','g','a','b','c'}\n",
    "print(ss2.issuperset(ss1))\n",
    "\n",
    "\n",
    "\n",
    "#symetric_difference() takes in a set parameter to compare,returns a set with both values from 2 sets but not the similar value from those set\n",
    "print(\"symmetric diff\")\n",
    "sd1={'a','b','c'}\n",
    "sd2={'d','e','f','g','a','b','c'}\n",
    "resultsd=sd1.symmetric_difference(sd2)\n",
    "print(resultsd)\n",
    "\n",
    "#symmetric_difference_update(set) takes in set for comparing. return the original set with combining the two set and removing the similar values\n",
    "\n",
    "sdu1={'a','b','c'}\n",
    "sdu2={'d','e','f','s','a','b','c','k'}\n",
    "sdu1.symmetric_difference_update(sdu2)\n",
    "print(sdu1)\n",
    "\n",
    "#union(set) takes in set or multiple set return with combined value and similar multiple value occuring once\n",
    "#it takes all the iterable types\n",
    "\n",
    "u1={'a','b','c'}\n",
    "u2={'d','e','f','g','a','b','c'}\n",
    "union=u1.union(u2)\n",
    "print(union)\n",
    "\n",
    "#update(set) takes in set to combine and return the original set with specified set values combine and duplicates at once\n",
    "\n",
    "up1={'a','b','c'}\n",
    "up2={'d','e','f','g','a','b','c','z','v'}\n",
    "up1.update(up2)\n",
    "print(up1)\n"
   ]
  },
  {
   "cell_type": "code",
   "execution_count": 47,
   "metadata": {},
   "outputs": [
    {
     "name": "stdout",
     "output_type": "stream",
     "text": [
      "False\n"
     ]
    }
   ],
   "source": [
    "#booleans\n",
    "#True and Flase\n",
    "#1 and 0\n",
    "name=\"hello\"\n",
    "name\n",
    "bool(name)\n",
    "age={}\n",
    "bool(age)\n",
    "print(bool(()))\n"
   ]
  },
  {
   "cell_type": "code",
   "execution_count": 7,
   "metadata": {},
   "outputs": [
    {
     "name": "stdout",
     "output_type": "stream",
     "text": [
      "<class 'NoneType'>\n",
      "not found\n"
     ]
    }
   ],
   "source": [
    "#none datatype\n",
    "name=None\n",
    "print(type(name))\n",
    "\n",
    "d={\n",
    "    'key':'value'\n",
    "}\n",
    "\n",
    "k=d.get('something',None)\n",
    "\n",
    "if k is None:\n",
    "    print(\"not found\")"
   ]
  },
  {
   "cell_type": "markdown",
   "metadata": {},
   "source": [
    "##files and methods\n"
   ]
  },
  {
   "cell_type": "code",
   "execution_count": 12,
   "metadata": {},
   "outputs": [],
   "source": [
    "#files\n",
    "with open(\"new_files.txt\",\"w\")as f:\n",
    "    f.write(\"new file created with python\")\n",
    "    f.close()\n",
    "    \n",
    "\n",
    "    \n",
    "    "
   ]
  },
  {
   "cell_type": "code",
   "execution_count": 13,
   "metadata": {},
   "outputs": [
    {
     "name": "stdout",
     "output_type": "stream",
     "text": [
      "<class '_io.TextIOWrapper'>\n"
     ]
    }
   ],
   "source": [
    "with open(\"new_files.txt\",\"r\")as f:\n",
    "    print(type(f))\n",
    "    contents=f.read()\n",
    "    f.close()"
   ]
  },
  {
   "cell_type": "code",
   "execution_count": 14,
   "metadata": {},
   "outputs": [
    {
     "name": "stdout",
     "output_type": "stream",
     "text": [
      "new file created with python\n"
     ]
    }
   ],
   "source": [
    "print(contents)"
   ]
  },
  {
   "cell_type": "code",
   "execution_count": 15,
   "metadata": {},
   "outputs": [],
   "source": [
    "with open(\"new_files.txt\",\"a\")as f:\n",
    "    f.write(\"\\n second line in python\")\n",
    "    f.close()"
   ]
  },
  {
   "cell_type": "code",
   "execution_count": 18,
   "metadata": {},
   "outputs": [
    {
     "data": {
      "text/plain": [
       "'new file created with python'"
      ]
     },
     "execution_count": 18,
     "metadata": {},
     "output_type": "execute_result"
    }
   ],
   "source": [
    "contents"
   ]
  },
  {
   "cell_type": "code",
   "execution_count": 26,
   "metadata": {},
   "outputs": [
    {
     "name": "stdout",
     "output_type": "stream",
     "text": [
      "new file created with python\n",
      " second line in python\n"
     ]
    }
   ],
   "source": [
    "with open(\"new_files.txt\",\"r\")as f:\n",
    "    print(f.read())\n",
    "    f.close()"
   ]
  },
  {
   "cell_type": "code",
   "execution_count": 33,
   "metadata": {},
   "outputs": [
    {
     "name": "stdout",
     "output_type": "stream",
     "text": [
      "4\n"
     ]
    }
   ],
   "source": [
    "with open(\"new_files.txt\",\"a\")as f:\n",
    "#fileno() this method return the file descriptor io/kernal number for opening a file it will return error if number is not used.\n",
    "    print(f.fileno())\n",
    "    \n",
    "    \n",
    "    \n",
    "    \n",
    "    \n",
    "    f.close()\n",
    "    \n",
    "    "
   ]
  },
  {
   "cell_type": "code",
   "execution_count": 61,
   "metadata": {},
   "outputs": [],
   "source": [
    "new=open(\"abc.txt\",\"w\")\n",
    "new.write(\"new file contents\")\n",
    "new=open(\"abc.txt\",\"r\")\n",
    "new.read()\n",
    "new=open(\"abc.txt\",\"a\")\n",
    "new.write(\"second line cahnges\")\n",
    "new=open(\"abc.txt\",\"r\")\n",
    "new.read()\n",
    "new.flush() #flush() method clears out internal buffer or contents.\n",
    "new.read()\n",
    "#isatty() is boolean returns the true/false if file stream is interactive or not with system terminal.\n",
    "new.isatty()\n",
    "#readable() boolean this method return if the file is reable or not True/false\n",
    "new.readable() \n",
    "new=open(\"abc.txt\",\"a\")\n",
    "new.write(\"\\n second line cahnges \\n third line \\nfourth line\")\n",
    "new=open(\"abc.txt\",\"r\")\n",
    "#readline(size) size is optional which is byte how much byte of words to display default is -1 which is full line\n",
    "#runing this method twice will return nxt line\n",
    "new.readline()\n",
    "#readlines(hint) parameter is optional which is in bytes and -1 is default, returns each line as list items from  file lines \n",
    "\n",
    "new.readlines()\n",
    "\n",
    "#seek(offset) this method takes offset naming the file location in filestream\n",
    "#seekable() returns true/false if the file location is seekable\n",
    "new.seekable()\n",
    "new.seek(34)\n",
    "new.read()\n",
    "\n",
    "#tell() return the current file location in file stream\n",
    "new.tell()\n",
    "\n",
    "#truncate(size) this method return the size of file default is same size of file in bytes\n",
    "new=open(\"abc.txt\",\"a\")\n",
    "new.truncate()\n",
    "#writelines(list) this method takes in list into file and with mode a and with w it will rewite\n",
    "new.writelines(['see you soon','see you again'])\n",
    "new.close()\n",
    "new=open(\"abc.txt\",\"r\")\n",
    "new.read()\n",
    "new.close()\n"
   ]
  },
  {
   "cell_type": "code",
   "execution_count": null,
   "metadata": {},
   "outputs": [],
   "source": []
  },
  {
   "cell_type": "code",
   "execution_count": null,
   "metadata": {},
   "outputs": [],
   "source": []
  }
 ],
 "metadata": {
  "kernelspec": {
   "display_name": "Python 3",
   "language": "python",
   "name": "python3"
  },
  "language_info": {
   "codemirror_mode": {
    "name": "ipython",
    "version": 3
   },
   "file_extension": ".py",
   "mimetype": "text/x-python",
   "name": "python",
   "nbconvert_exporter": "python",
   "pygments_lexer": "ipython3",
   "version": "3.8.3"
  }
 },
 "nbformat": 4,
 "nbformat_minor": 4
}
