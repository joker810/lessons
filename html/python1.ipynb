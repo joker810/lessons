{
 "cells": [
  {
   "cell_type": "code",
   "execution_count": 24,
   "metadata": {},
   "outputs": [
    {
     "name": "stdout",
     "output_type": "stream",
     "text": [
      "1\n"
     ]
    }
   ],
   "source": [
    "a=1\n",
    "b=2\n",
    "temp=a\n",
    "a=99\n",
    "b=temp\n",
    "print(b)"
   ]
  },
  {
   "cell_type": "code",
   "execution_count": null,
   "metadata": {},
   "outputs": [],
   "source": [
    "#conditional expression\n",
    "x if condition else y\n",
    "condition is evaluated first if condition is true \n",
    "x is evaluated and value is returned\n",
    "if the condition is false y is evaluted and value is returned\n"
   ]
  },
  {
   "cell_type": "code",
   "execution_count": 54,
   "metadata": {},
   "outputs": [
    {
     "name": "stdout",
     "output_type": "stream",
     "text": [
      "a is equals to b\n"
     ]
    }
   ],
   "source": [
    "#check the given conditon  is even or not\n",
    "#a=int(input(\"enter the no:\"))\n",
    "#if a % 2 == 0:\n",
    " # print(\"{0} is even\".format(a) ) #{0} is format holder swaps place with index 0 here with a and index zero \n",
    "#else :\n",
    " #   print(\"{0}is odd\".format(a))\n",
    "    \n",
    "# a==b is equals\n",
    "#a!=b is not equals to \n",
    "#a<b a is lesser than b\n",
    "#a<=b a is lesser than and equals to b\n",
    "#a>b\n",
    "#a>b a is greater than and equales to b\n",
    " \n",
    "#conditon in python they relies on whitespaces  other relie on curly brackets\n",
    "#example for no spaces\n",
    "#a=5\n",
    "#b=6\n",
    "#if a>b:\n",
    "#print(\"a is smaller than b\") #no spaces given so raises error \n",
    " #elif is else if\n",
    "#if previous condition is not true then try this condition \n",
    "#a=45\n",
    "#b=45\n",
    "#if a<b:\n",
    "#    print(\"a is less than b\")\n",
    "#elif a==b:\n",
    "#    print(\"a equals to b\")\n",
    "#else statement catches anything which isnt caught in previous condition\n",
    "#a=67\n",
    "#b=87\n",
    "#if a>b:\n",
    "#    print(\"a is greater than b\")\n",
    "#elif a==b:\n",
    "#    print(\"a is equals to b\")\n",
    "#else :\n",
    "#    print(\"a is less than b\")\n",
    " # AND keyword is used to join conditional statement is logical operator\n",
    "#a=200\n",
    "#b=50\n",
    "#c=300\n",
    "#if a>b and c>a:\n",
    "#   print(\"condition is true\")\n",
    "#else:\n",
    "#    print(\"condition is false\")\n",
    "    \n",
    "# OR keyword also used to combine conditional statements\n",
    "#a=70\n",
    "#b=60\n",
    "#c=100\n",
    "#if a>b or a>c:\n",
    "#    print (\"one of them is greater\")\n",
    "#else:\n",
    "#    print(\"a is smaller\")\n",
    " \n",
    "# NESTEDIF if statement inside an if statement \n",
    "a=20\n",
    "b=20\n",
    "if a>b:\n",
    "    print(\"a is greater than b\")\n",
    "if a<b:\n",
    "    print(\"a is smaller than b\")\n",
    "else:\n",
    "            print(\"a is equals to b\")\n",
    " #PASS  statement- if statement cannot be empty if IF is empty use PASS to escape the error\n",
    "a=56\n",
    "b=87\n",
    "if a>b:\n",
    "    pass\n",
    "\n",
    "\n",
    "\n",
    "\n"
   ]
  },
  {
   "cell_type": "code",
   "execution_count": 51,
   "metadata": {},
   "outputs": [
    {
     "name": "stdout",
     "output_type": "stream",
     "text": [
      "20\n"
     ]
    }
   ],
   "source": [
    "print(b)"
   ]
  },
  {
   "cell_type": "code",
   "execution_count": 22,
   "metadata": {},
   "outputs": [
    {
     "name": "stdout",
     "output_type": "stream",
     "text": [
      "a is not greater than b\n"
     ]
    }
   ],
   "source": [
    "a=76\n",
    "b=85\n",
    "if a > b:\n",
    "    print(\"a is greater than b\")\n",
    "else:\n",
    "    print(\"a is not greater than b\")"
   ]
  },
  {
   "cell_type": "code",
   "execution_count": 9,
   "metadata": {},
   "outputs": [
    {
     "name": "stdout",
     "output_type": "stream",
     "text": [
      "c is equal to d\n"
     ]
    }
   ],
   "source": [
    "c=3\n",
    "d=3\n",
    "if c > d:\n",
    "    print(\"c is greater than d\")\n",
    "elif c == d:\n",
    "    print(\"c is equal to d\")\n",
    "else:\n",
    "    print(\"c is less than d\")\n"
   ]
  },
  {
   "cell_type": "code",
   "execution_count": 15,
   "metadata": {},
   "outputs": [
    {
     "name": "stdout",
     "output_type": "stream",
     "text": [
      "h is less than g\n"
     ]
    }
   ],
   "source": [
    "h=8\n",
    "g=9\n",
    "if h > g:\n",
    "    print(\"h is greater than g\")\n",
    "else:\n",
    "    if h < g:\n",
    "            print(\"h is less than g\")"
   ]
  },
  {
   "cell_type": "code",
   "execution_count": 20,
   "metadata": {},
   "outputs": [
    {
     "name": "stdout",
     "output_type": "stream",
     "text": [
      "h is less than k\n"
     ]
    }
   ],
   "source": [
    "h=109\n",
    "k=839\n",
    "if h > k:\n",
    "    print(\"h is greater than k\")\n",
    "else:\n",
    "        if h < k:\n",
    "            print(\"h is less than k\")\n",
    "        else:\n",
    "            if h == k:\n",
    "                print(\"h is to eqaul to k\")"
   ]
  },
  {
   "cell_type": "code",
   "execution_count": 37,
   "metadata": {},
   "outputs": [
    {
     "name": "stdout",
     "output_type": "stream",
     "text": [
      "2.5\n",
      "bmi is: 2.5\n",
      "sitr\n",
      "weight is fine\n"
     ]
    }
   ],
   "source": [
    "name = \"sitr\"\n",
    "weight_kg = 10\n",
    "height_m = 2\n",
    "\n",
    "bmi = weight_kg / (height_m ** 2)\n",
    "print(bmi)\n",
    "print(\"bmi is:\",bmi)\n",
    "if bmi > 50:\n",
    "    print(name)\n",
    "    print(\"weight is over weight\")\n",
    "else:\n",
    "    print(name)\n",
    "    print(\"weight is fine\")\n"
   ]
  },
  {
   "cell_type": "code",
   "execution_count": 43,
   "metadata": {},
   "outputs": [
    {
     "name": "stdout",
     "output_type": "stream",
     "text": [
      "pressure is:\n",
      "17.04\n",
      "pressure is high\n"
     ]
    }
   ],
   "source": [
    "tyre = \"apollo\" #example\n",
    "force_N = 852\n",
    "area_m = 50\n",
    "\n",
    "pressure = (force_N/area_m)\n",
    "print(\"pressure is:\")\n",
    "print(pressure)\n",
    "if pressure > 10:\n",
    "    print(\"pressure is high\")\n",
    "else:\n",
    "    if pressure < 10:\n",
    "        print(\"pressure is low\")\n",
    "        \n"
   ]
  },
  {
   "cell_type": "code",
   "execution_count": 10,
   "metadata": {},
   "outputs": [
    {
     "ename": "SyntaxError",
     "evalue": "invalid syntax (<ipython-input-10-08ce1d32e5e2>, line 4)",
     "output_type": "error",
     "traceback": [
      "\u001b[1;36m  File \u001b[1;32m\"<ipython-input-10-08ce1d32e5e2>\"\u001b[1;36m, line \u001b[1;32m4\u001b[0m\n\u001b[1;33m    print\"lets talk about %s.\" % my_name\u001b[0m\n\u001b[1;37m         ^\u001b[0m\n\u001b[1;31mSyntaxError\u001b[0m\u001b[1;31m:\u001b[0m invalid syntax\n"
     ]
    }
   ],
   "source": [
    "my_name = \"shridhar\" #works on pyhton 2 not3\n",
    "my_color = \"black\"\n",
    "my_height = 6\n",
    "print\"lets talk about %s.\" % my_name\n",
    "print\"he is %s.\" % my_color\n",
    "print\"he is %d\" % my_height"
   ]
  },
  {
   "cell_type": "code",
   "execution_count": 13,
   "metadata": {},
   "outputs": [
    {
     "name": "stdout",
     "output_type": "stream",
     "text": [
      "[5, 7, -8, 'hello', 7.8]\n"
     ]
    }
   ],
   "source": [
    "# lists in python\n",
    "a = [5,7,-8,\"hello\",7.8,]\n",
    "print (a)\n"
   ]
  },
  {
   "cell_type": "code",
   "execution_count": 2,
   "metadata": {},
   "outputs": [
    {
     "name": "stdout",
     "output_type": "stream",
     "text": [
      "3\n",
      "<class 'list'>\n"
     ]
    }
   ],
   "source": [
    "a=[78,6,3,\"hello pop\",\"y\",True]#index can be done \n",
    "#a[0]\n",
    "#a[89] #error\n",
    "#a[0:3]\n",
    "#create a list \n",
    "this_list=[\"aam\",\"bannana\",\"aam\"] #ordered ,changeble ,duplicates exsist in lists\n",
    "print(len(this_list)) #length can found using len()\n",
    "print (type(a))\n"
   ]
  },
  {
   "cell_type": "code",
   "execution_count": 11,
   "metadata": {},
   "outputs": [
    {
     "name": "stdout",
     "output_type": "stream",
     "text": [
      "['apple', 'cherry', 'banana']\n",
      "banana\n"
     ]
    },
    {
     "data": {
      "text/plain": [
       "[]"
      ]
     },
     "execution_count": 11,
     "metadata": {},
     "output_type": "execute_result"
    }
   ],
   "source": [
    "l1=[\"aa\",\"bb\",\"cc\",\"dd\",\"ee\",\"ff\",\"gg\"]\n",
    "l2=[1,2,3]     #lists can contain any datatype\n",
    "l3=[True,False]# boolean type first letter is capital\n",
    "a=list((\"apple\",\"cherry\",\"banana\")) #creating a list in list using list() constructor\n",
    "print(a)\n",
    "print(a[2]) #accessing the item of the list\n",
    "l1[2:5] #range in index  starts with 2 included and ends at 5 and 5 is not included\n",
    "l1[-4:-1] #negative index\n",
    "\n",
    "\n"
   ]
  },
  {
   "cell_type": "code",
   "execution_count": 5,
   "metadata": {},
   "outputs": [
    {
     "name": "stdout",
     "output_type": "stream",
     "text": [
      "['aa', 'cc', 'dd', 'ee', 'ff', 'gg']\n"
     ]
    }
   ],
   "source": [
    "l1=[\"aa\",\"bb\",\"cc\",\"dd\",\"ee\",\"ff\",\"gg\"]\n",
    "#if \"aa\" in l1: #checking specified item is present in the list using if and in keyword\n",
    "   # print(\"Yes,'aa' is present\") \n",
    "#l1=[]=\"BB\" # changing values inside a list \n",
    "#print (l1)\n",
    "#l1.insert(1,\"hh\") inserting a new item without removing any item or replacing \n",
    "#print(l1)\n",
    "#l1.append(\"bb\")  #adding a new string or item to list\n",
    "#print(l1)\n",
    "#l1.remove(\"bb\")  #removind string from list\n",
    "#print(l1)\n",
    "\n"
   ]
  },
  {
   "cell_type": "code",
   "execution_count": 27,
   "metadata": {},
   "outputs": [
    {
     "name": "stdout",
     "output_type": "stream",
     "text": [
      "('cherry', 'banana', 'apple')\n",
      "('cherry', 'banana')\n"
     ]
    },
    {
     "data": {
      "text/plain": [
       "1"
      ]
     },
     "execution_count": 27,
     "metadata": {},
     "output_type": "execute_result"
    }
   ],
   "source": [
    "#atuple=(\"cherry\",\"apple\",\"nimbo\") tuple are ordered unchangeble and allows duplicates\n",
    "#print (atuple)\n",
    "#worktuple=(\"chery\",) #comma is mandatory if we dont use comma its tpe is string\n",
    "#print (worktuple)\n",
    "btuple=tuple((\"cherry\",\"banana\",\"apple\")) #constructing a tuple with tuple()\n",
    "print (btuple)\n",
    "#print (btuple[1]) # accessing a tuple bt index\n",
    "#print (btuple[-1]) #negative indexing\n",
    "#print (btuple[0:2]) # range search will start from 0 (included) and end at  two (not included)\n",
    "print(btuple[-3:-1]) #same end is not included \n",
    "btuple.count(\"cherry\")\n",
    "\n",
    "\n"
   ]
  },
  {
   "cell_type": "code",
   "execution_count": 43,
   "metadata": {},
   "outputs": [
    {
     "name": "stdout",
     "output_type": "stream",
     "text": [
      "12\n",
      "12\n",
      "1\n"
     ]
    }
   ],
   "source": [
    "#a1=input(\"enter no one fruit:\") # program to store a set of fruits given by user in list\n",
    "#a2=input(\"enter the 2 fruit:\")\n",
    "#myfruits=[a1,a2]   \n",
    "#print(myfruits)\n",
    "#b1=int(input(\"enter the mark of one :\")) #mind the int type declaring for integer \n",
    "#b2=int(input(\"enter the mark of 2:\"))\n",
    "#marks=[b1,b2]\n",
    "#marks.sort()\n",
    "#print(marks)\n",
    "#a=(\"2\",\"3\",\"4\")\n",
    "#a[0]=45\n",
    "a=[2,3,4,3]\n",
    "print (a[0]+a[1]+a[2]+a[3]) #step 1 \n",
    "print(sum(a)) #step2 both can be used to find th sum\n",
    "#creating a tuple using()\n",
    "c=(2,3,4,54,56)\n",
    "print(c.count(4))\n",
    "\n",
    "\n"
   ]
  },
  {
   "cell_type": "code",
   "execution_count": 38,
   "metadata": {},
   "outputs": [],
   "source": [
    "a.extend(a)"
   ]
  },
  {
   "cell_type": "code",
   "execution_count": 19,
   "metadata": {},
   "outputs": [
    {
     "name": "stdout",
     "output_type": "stream",
     "text": [
      "[5, 7, -8, 5, 7, -8]\n"
     ]
    }
   ],
   "source": [
    "print(a)"
   ]
  },
  {
   "cell_type": "code",
   "execution_count": 20,
   "metadata": {},
   "outputs": [],
   "source": [
    "a.reverse()"
   ]
  },
  {
   "cell_type": "code",
   "execution_count": 21,
   "metadata": {},
   "outputs": [
    {
     "name": "stdout",
     "output_type": "stream",
     "text": [
      "[-8, 7, 5, -8, 7, 5]\n"
     ]
    }
   ],
   "source": [
    "print(a)"
   ]
  },
  {
   "cell_type": "code",
   "execution_count": 22,
   "metadata": {},
   "outputs": [],
   "source": [
    "a.sort()"
   ]
  },
  {
   "cell_type": "code",
   "execution_count": 23,
   "metadata": {},
   "outputs": [
    {
     "name": "stdout",
     "output_type": "stream",
     "text": [
      "[-8, -8, 5, 5, 7, 7]\n"
     ]
    }
   ],
   "source": [
    "print(a)"
   ]
  },
  {
   "cell_type": "code",
   "execution_count": 35,
   "metadata": {},
   "outputs": [
    {
     "data": {
      "text/plain": [
       "2"
      ]
     },
     "execution_count": 35,
     "metadata": {},
     "output_type": "execute_result"
    }
   ],
   "source": [
    "a.index(5) #Return the index in the list of the first item whose value is x. It is an error if there is no such item\n"
   ]
  },
  {
   "cell_type": "code",
   "execution_count": 34,
   "metadata": {},
   "outputs": [
    {
     "data": {
      "text/plain": [
       "2"
      ]
     },
     "execution_count": 34,
     "metadata": {},
     "output_type": "execute_result"
    }
   ],
   "source": [
    "a.count(5) #Return the number of times x appears in the list specify x"
   ]
  },
  {
   "cell_type": "code",
   "execution_count": 26,
   "metadata": {},
   "outputs": [
    {
     "name": "stdout",
     "output_type": "stream",
     "text": [
      "[-8, -8, 5, 5, 7, 7]\n"
     ]
    }
   ],
   "source": [
    "print(a)"
   ]
  },
  {
   "cell_type": "code",
   "execution_count": 82,
   "metadata": {},
   "outputs": [
    {
     "name": "stdout",
     "output_type": "stream",
     "text": [
      "mustang\n"
     ]
    }
   ],
   "source": [
    "#dictionery uses odered ,changeble ,does not allow duplicates and stores data values of key : value pairs\n",
    "mydict={\"brand\":\"shelby\",\"model\":\"mustang\",\"iam\":False, \"year\":99}\n",
    "#print(mydict) #dictionary contains all the datatype\n",
    "#len(mydict) #length of dictionary\n",
    "#type(mydict)\n",
    "x=mydict[\"model\"] # accessing the item \n",
    "print(x)"
   ]
  },
  {
   "cell_type": "code",
   "execution_count": 124,
   "metadata": {},
   "outputs": [
    {
     "data": {
      "text/plain": [
       "dict_values(['shelby', 'mustang', False, 99])"
      ]
     },
     "execution_count": 124,
     "metadata": {},
     "output_type": "execute_result"
    }
   ],
   "source": [
    "#mydict.clear()\n",
    "#print(mydict) #clears everything from dictionery\n",
    "mydic={\"brand\":\"shelby\",\"model\":\"mustang\",\"iam\":False, \"year\":99}\n",
    "mydic2={1:\"apple\",2:\"cherry\"}\n",
    "#x=mydic.copy() #returns copy of the dictionary\n",
    "#print(x)\n",
    "#x=mydic.get(\"brand\") #returns the value of specified key\n",
    "#print(x)\n",
    "#y=mydic.items() #returns the list in a tuple for each key value pair\n",
    "#print(y)\n",
    "#z=mydic.keys() #returns a list contaning keys or headname of dictionary\n",
    "#print(z)\n",
    "#print(mydic.pop(\"model\"))#removes element with specified key\n",
    "#print(mydic)\n",
    "#print(mydic.setdefault(\"brand\")) #returns value of specified key\n",
    "#mydic.update(mydic2) #using update a new items can be added and list can also be added \n",
    "#mydic2.update(x=1,y=2,z=3)\n",
    "#print(mydic2)\n",
    "#print(mydic)\n",
    "mydic.values() #returns the value of the dictionary\n",
    "\n"
   ]
  },
  {
   "cell_type": "code",
   "execution_count": null,
   "metadata": {},
   "outputs": [],
   "source": []
  },
  {
   "cell_type": "code",
   "execution_count": 14,
   "metadata": {
    "scrolled": true
   },
   "outputs": [
    {
     "name": "stdout",
     "output_type": "stream",
     "text": [
      "{'banana', 'apple', 'cherry'}\n",
      "{False, True, 2, 3, 'lala', 'mama'}\n"
     ]
    }
   ],
   "source": [
    "#python sets are unodered and unindexed set of values used to store one datatype variable  in flower brackets\n",
    "prthonset={\"apple\",\"cherry\",\"banana\"}\n",
    "print(prthonset) #note set is unodered so item will remain in random order\n",
    "#set do allow duplicates once set is created items cannot be changed but a new items can be added\n",
    "#pythonset={\"lise\",\"baby\",\"baby\"} #duplicates are ignored \n",
    "#print(pythonset)\n",
    "set={\"mama\",\"lala\",True,2,False,3}\n",
    "print(set)\n"
   ]
  },
  {
   "cell_type": "code",
   "execution_count": 1,
   "metadata": {},
   "outputs": [
    {
     "name": "stdout",
     "output_type": "stream",
     "text": [
      "True\n",
      "{'b'}\n",
      "False\n",
      "b\n",
      "{'k', 'g'}\n",
      "None\n",
      "{'k'}\n",
      "{'e', 'f'}\n",
      "{'e', 'f'}\n"
     ]
    }
   ],
   "source": [
    "#setmethods\n",
    "set={\"add\",\"minus\",\"divide\",\"percent\"}\n",
    "setq={\"cherry\",\"mango\",\"add\"}\n",
    "#set.add(\"substract\") #adds element to set\n",
    "#print(set)\n",
    "#set.clear() #clears all items from set\n",
    "#print(set)\n",
    "#x=set.copy() #returns a copy of a set\n",
    "#print (x)\n",
    "#z=set.difference(setq) #returns a set with difference btw 2 or more sets and returns of only one set\n",
    "#print(z)\n",
    "#k=set.difference_update(setq) #removes items exists in both set or difference is removed unlike difference method()\n",
    "#print(set)\n",
    "#set.discard(\"divide\") #remove the specified item\n",
    "#print(set)\n",
    "#x=set.isdisjoint(setq) #returns true or false.true if none of both set items are same and false if one or more items are same in set\n",
    "#print(x)\n",
    "a={\"a\",\"b\",\"c\"}\n",
    "b={\"b\",\"f\",\"a\",\"c\",\"e\"}\n",
    "c={\"b\",\"g\",\"k\"}\n",
    "z=a.issubset(b) #returns true if all the element in a are present in b \n",
    "print(z) # returns true if all the items are present in specified set\n",
    "#returns false if all the items are not present in specified set\n",
    "y=a.intersection(b,c) #returns a set that contains similarity btw two or more set  \n",
    "print(y) #syntax set.intersection(set1,set2,,,,,etc)can be compared as many as you want seperated by comma \n",
    "k=c.issuperset(b) #returns true or false , true if specified set items are present in original set and false if not\n",
    "print(k)\n",
    "print(c.pop()) #removes random item from set\n",
    "print (c)\n",
    "print(c.remove(\"g\")) #removes specified item from sting different from discard because remove raises error if specified item is not in the set and discard doesnot\n",
    "print(c)\n",
    "m=a.symmetric_difference(b) #returns all the items which is not present in both set and doesnot return which are present in both set\n",
    "print(m)\n",
    "a.symmetric_difference_update(b)#returns all items from both set which are not similar and similar items are deleted\n",
    "print(a)\n",
    "\n",
    "\n",
    "\n",
    "\n"
   ]
  },
  {
   "cell_type": "code",
   "execution_count": 3,
   "metadata": {},
   "outputs": [
    {
     "name": "stdout",
     "output_type": "stream",
     "text": [
      "{'a', 'f', 'b', 'k', 'c', 'e', 'g'}\n"
     ]
    }
   ],
   "source": [
    "a={\"a\",\"b\",\"c\"}\n",
    "b={\"b\",\"f\",\"a\",\"c\",\"e\"}\n",
    "c={\"b\",\"g\",\"k\"}\n",
    "#a.symmetric_difference_update(b) #removes items that present in both set and returns rest of the items \n",
    "#print(a)\n",
    "#x=a.union(b,c) #returns items present in all sets and duplictes will be only returned once can be used in other iterbles too\n",
    "#print(x)\n",
    "a.update(b,c) #inserting items from a to b,c and duplicates is returned only once \n",
    "print(a)\n"
   ]
  },
  {
   "cell_type": "code",
   "execution_count": 42,
   "metadata": {},
   "outputs": [
    {
     "ename": "SyntaxError",
     "evalue": "invalid syntax (<ipython-input-42-04218e9efddb>, line 18)",
     "output_type": "error",
     "traceback": [
      "\u001b[1;36m  File \u001b[1;32m\"<ipython-input-42-04218e9efddb>\"\u001b[1;36m, line \u001b[1;32m18\u001b[0m\n\u001b[1;33m    s=set{}\u001b[0m\n\u001b[1;37m         ^\u001b[0m\n\u001b[1;31mSyntaxError\u001b[0m\u001b[1;31m:\u001b[0m invalid syntax\n"
     ]
    }
   ],
   "source": [
    "#examples \n",
    "#dict={\"brand\":\"tvs\",\"name\":\"apache\",\"model\":\"v2\"}\n",
    "#print(\"attributes are\",dict.keys())\n",
    "#a=input(\"enter name\")\n",
    "#print(\"name is :\",dict.get(a))\n",
    " #example2 \n",
    "#a=int(input(\"enter a number :\"))\n",
    "#b=int(input(\"enter a number 2:\"))\n",
    "#c=int(input(\"enter a third number:\"))\n",
    "#d=int(input(\"enter forth no:\"))\n",
    "#e=int(input(\"enter fifth no:\"))\n",
    "#s={a,b,c,d,e}\n",
    "#print(s)\n",
    "#examples3 ptinting a integer and a string\n",
    "#s={3,\"32\",3.4}\n",
    "#print(s)\n",
    "#example to find length of set s\n",
    "s=set\n",
    "s.add(1)\n",
    "s.add(\"34\")\n",
    "s.add(5.6)\n",
    "print(s)\n",
    "\n"
   ]
  },
  {
   "cell_type": "code",
   "execution_count": 37,
   "metadata": {},
   "outputs": [
    {
     "ename": "TypeError",
     "evalue": "'int' object does not support item assignment",
     "output_type": "error",
     "traceback": [
      "\u001b[1;31m---------------------------------------------------------------------------\u001b[0m",
      "\u001b[1;31mTypeError\u001b[0m                                 Traceback (most recent call last)",
      "\u001b[1;32m<ipython-input-37-ed991e1e41ea>\u001b[0m in \u001b[0;36m<module>\u001b[1;34m\u001b[0m\n\u001b[1;32m----> 1\u001b[1;33m \u001b[0mb\u001b[0m\u001b[1;33m[\u001b[0m\u001b[1;36m0\u001b[0m\u001b[1;33m]\u001b[0m\u001b[1;33m=\u001b[0m\u001b[1;36m3\u001b[0m\u001b[1;33m\u001b[0m\u001b[1;33m\u001b[0m\u001b[0m\n\u001b[0m\u001b[0;32m      2\u001b[0m \u001b[0mb\u001b[0m\u001b[1;33m[\u001b[0m\u001b[1;36m1\u001b[0m\u001b[1;33m]\u001b[0m\u001b[1;33m=\u001b[0m\u001b[1;36m4\u001b[0m\u001b[1;33m\u001b[0m\u001b[1;33m\u001b[0m\u001b[0m\n\u001b[0;32m      3\u001b[0m \u001b[0mtemp\u001b[0m\u001b[1;33m=\u001b[0m\u001b[0mb\u001b[0m\u001b[1;33m[\u001b[0m\u001b[1;36m0\u001b[0m\u001b[1;33m]\u001b[0m\u001b[1;31m#swaping places\u001b[0m\u001b[1;33m\u001b[0m\u001b[1;33m\u001b[0m\u001b[0m\n\u001b[0;32m      4\u001b[0m \u001b[0mb\u001b[0m\u001b[1;33m[\u001b[0m\u001b[1;36m0\u001b[0m\u001b[1;33m]\u001b[0m\u001b[1;33m=\u001b[0m\u001b[0mb\u001b[0m\u001b[1;33m[\u001b[0m\u001b[1;36m1\u001b[0m\u001b[1;33m]\u001b[0m\u001b[1;33m\u001b[0m\u001b[1;33m\u001b[0m\u001b[0m\n\u001b[0;32m      5\u001b[0m \u001b[0mb\u001b[0m\u001b[1;33m[\u001b[0m\u001b[1;36m1\u001b[0m\u001b[1;33m]\u001b[0m\u001b[1;33m=\u001b[0m\u001b[0mtemp\u001b[0m\u001b[1;33m\u001b[0m\u001b[1;33m\u001b[0m\u001b[0m\n",
      "\u001b[1;31mTypeError\u001b[0m: 'int' object does not support item assignment"
     ]
    }
   ],
   "source": [
    "b[0]=3\n",
    "b[1]=4\n",
    "temp=b[0]#swaping places\n",
    "b[0]=b[1]\n",
    "b[1]=temp\n",
    "print (b[1])"
   ]
  },
  {
   "cell_type": "markdown",
   "metadata": {},
   "source": [
    "#### print(b)"
   ]
  },
  {
   "cell_type": "code",
   "execution_count": 27,
   "metadata": {},
   "outputs": [
    {
     "ename": "TypeError",
     "evalue": "'int' object is not subscriptable",
     "output_type": "error",
     "traceback": [
      "\u001b[1;31m---------------------------------------------------------------------------\u001b[0m",
      "\u001b[1;31mTypeError\u001b[0m                                 Traceback (most recent call last)",
      "\u001b[1;32m<ipython-input-27-bf161eedc5c6>\u001b[0m in \u001b[0;36m<module>\u001b[1;34m\u001b[0m\n\u001b[1;32m----> 1\u001b[1;33m \u001b[0mb\u001b[0m\u001b[1;33m[\u001b[0m\u001b[1;36m1\u001b[0m\u001b[1;33m]\u001b[0m\u001b[1;33m,\u001b[0m\u001b[0mb\u001b[0m\u001b[1;33m[\u001b[0m\u001b[1;36m2\u001b[0m\u001b[1;33m]\u001b[0m\u001b[1;33m=\u001b[0m\u001b[0mb\u001b[0m\u001b[1;33m[\u001b[0m\u001b[1;36m2\u001b[0m\u001b[1;33m]\u001b[0m\u001b[1;33m,\u001b[0m\u001b[0mb\u001b[0m\u001b[1;33m[\u001b[0m\u001b[1;36m1\u001b[0m\u001b[1;33m]\u001b[0m \u001b[1;31m#swaping places\u001b[0m\u001b[1;33m\u001b[0m\u001b[1;33m\u001b[0m\u001b[0m\n\u001b[0m",
      "\u001b[1;31mTypeError\u001b[0m: 'int' object is not subscriptable"
     ]
    }
   ],
   "source": [
    "b[1],b[2]=b[2],b[1] #swaping places\n"
   ]
  },
  {
   "cell_type": "code",
   "execution_count": 28,
   "metadata": {},
   "outputs": [
    {
     "name": "stdout",
     "output_type": "stream",
     "text": [
      "5\n"
     ]
    }
   ],
   "source": [
    "print(b)"
   ]
  },
  {
   "cell_type": "code",
   "execution_count": 50,
   "metadata": {},
   "outputs": [
    {
     "data": {
      "text/plain": [
       "range(0, 10)"
      ]
     },
     "execution_count": 50,
     "metadata": {},
     "output_type": "execute_result"
    }
   ],
   "source": [
    "range(10)\n"
   ]
  },
  {
   "cell_type": "code",
   "execution_count": 51,
   "metadata": {},
   "outputs": [],
   "source": [
    "a = ['apple','banana','cat']"
   ]
  },
  {
   "cell_type": "code",
   "execution_count": 52,
   "metadata": {},
   "outputs": [
    {
     "data": {
      "text/plain": [
       "3"
      ]
     },
     "execution_count": 52,
     "metadata": {},
     "output_type": "execute_result"
    }
   ],
   "source": [
    "len(a)"
   ]
  },
  {
   "cell_type": "code",
   "execution_count": 54,
   "metadata": {},
   "outputs": [
    {
     "data": {
      "text/plain": [
       "range(0, 10)"
      ]
     },
     "execution_count": 54,
     "metadata": {},
     "output_type": "execute_result"
    }
   ],
   "source": [
    "range(10)"
   ]
  },
  {
   "cell_type": "code",
   "execution_count": 58,
   "metadata": {},
   "outputs": [
    {
     "data": {
      "text/plain": [
       "1"
      ]
     },
     "execution_count": 58,
     "metadata": {},
     "output_type": "execute_result"
    }
   ],
   "source": [
    "a.count('apple')"
   ]
  },
  {
   "cell_type": "code",
   "execution_count": 32,
   "metadata": {},
   "outputs": [
    {
     "name": "stdout",
     "output_type": "stream",
     "text": [
      "iam stupid\n",
      "iam as fine as %s\n",
      "c\n"
     ]
    },
    {
     "ename": "TypeError",
     "evalue": "'int' object is not iterable",
     "output_type": "error",
     "traceback": [
      "\u001b[1;31m---------------------------------------------------------------------------\u001b[0m",
      "\u001b[1;31mTypeError\u001b[0m                                 Traceback (most recent call last)",
      "\u001b[1;32m<ipython-input-32-9f721153ffcd>\u001b[0m in \u001b[0;36m<module>\u001b[1;34m\u001b[0m\n\u001b[0;32m      1\u001b[0m \u001b[0mprint\u001b[0m\u001b[1;33m(\u001b[0m\u001b[1;34m\"iam stupid\"\u001b[0m\u001b[1;33m)\u001b[0m\u001b[1;33m\u001b[0m\u001b[1;33m\u001b[0m\u001b[0m\n\u001b[0;32m      2\u001b[0m \u001b[0mprint\u001b[0m\u001b[1;33m(\u001b[0m\u001b[1;34m\"iam as fine as %s\"\u001b[0m\u001b[1;33m)\u001b[0m\u001b[1;33m\u001b[0m\u001b[1;33m\u001b[0m\u001b[0m\n\u001b[1;32m----> 3\u001b[1;33m \u001b[0mprint\u001b[0m\u001b[1;33m(\u001b[0m\u001b[1;34m\"c\"\u001b[0m\u001b[1;33m)\u001b[0m\u001b[1;33m,\u001b[0m\u001b[1;33m*\u001b[0m\u001b[1;36m10\u001b[0m\u001b[1;33m\u001b[0m\u001b[1;33m\u001b[0m\u001b[0m\n\u001b[0m\u001b[0;32m      4\u001b[0m \u001b[0mbed1\u001b[0m\u001b[1;33m=\u001b[0m\u001b[1;34m\"c\"\u001b[0m\u001b[1;33m\u001b[0m\u001b[1;33m\u001b[0m\u001b[0m\n\u001b[0;32m      5\u001b[0m \u001b[0mbed2\u001b[0m\u001b[1;33m=\u001b[0m\u001b[1;34m\"h\"\u001b[0m\u001b[1;33m\u001b[0m\u001b[1;33m\u001b[0m\u001b[0m\n",
      "\u001b[1;31mTypeError\u001b[0m: 'int' object is not iterable"
     ]
    }
   ],
   "source": [
    "print(\"iam stupid\")\n",
    "print(\"iam as fine as %s\")\n",
    "print(\"c\"),*10\n",
    "bed1=\"c\"\n",
    "bed2=\"h\"\n",
    "bed3=\"e\"\n",
    "bed4=\"s\"\n",
    "bed5=\"s\"\n",
    "print (bed1,bed2,bed3,bed4,bed5 ) #defines the value\n"
   ]
  },
  {
   "cell_type": "code",
   "execution_count": 27,
   "metadata": {},
   "outputs": [
    {
     "ename": "NameError",
     "evalue": "name 'a' is not defined",
     "output_type": "error",
     "traceback": [
      "\u001b[1;31m---------------------------------------------------------------------------\u001b[0m",
      "\u001b[1;31mNameError\u001b[0m                                 Traceback (most recent call last)",
      "\u001b[1;32m<ipython-input-27-1a2e6ec5f1e3>\u001b[0m in \u001b[0;36m<module>\u001b[1;34m\u001b[0m\n\u001b[1;32m----> 1\u001b[1;33m \u001b[0mlen\u001b[0m\u001b[1;33m(\u001b[0m\u001b[0ma\u001b[0m\u001b[1;33m)\u001b[0m\u001b[1;33m\u001b[0m\u001b[1;33m\u001b[0m\u001b[0m\n\u001b[0m",
      "\u001b[1;31mNameError\u001b[0m: name 'a' is not defined"
     ]
    }
   ],
   "source": [
    "len(a)\n"
   ]
  },
  {
   "cell_type": "code",
   "execution_count": 18,
   "metadata": {},
   "outputs": [
    {
     "ename": "SyntaxError",
     "evalue": "invalid syntax (<ipython-input-18-1080fb4841d8>, line 2)",
     "output_type": "error",
     "traceback": [
      "\u001b[1;36m  File \u001b[1;32m\"<ipython-input-18-1080fb4841d8>\"\u001b[1;36m, line \u001b[1;32m2\u001b[0m\n\u001b[1;33m    print base %(1,2,3,4)\u001b[0m\n\u001b[1;37m          ^\u001b[0m\n\u001b[1;31mSyntaxError\u001b[0m\u001b[1;31m:\u001b[0m invalid syntax\n"
     ]
    }
   ],
   "source": [
    "base = \"%r %r %r %r\"\n",
    "print base %(1,2,3,4)\n",
    "print base %(\"ba\",\"da\",\"na\",\"ka\")\n",
    "print (base,base,base,base)\n"
   ]
  },
  {
   "cell_type": "code",
   "execution_count": 72,
   "metadata": {},
   "outputs": [
    {
     "ename": "SyntaxError",
     "evalue": "invalid syntax (<ipython-input-72-5b48920124db>, line 4)",
     "output_type": "error",
     "traceback": [
      "\u001b[1;36m  File \u001b[1;32m\"<ipython-input-72-5b48920124db>\"\u001b[1;36m, line \u001b[1;32m4\u001b[0m\n\u001b[1;33m    print(\"here r the year:\")year\u001b[0m\n\u001b[1;37m                             ^\u001b[0m\n\u001b[1;31mSyntaxError\u001b[0m\u001b[1;31m:\u001b[0m invalid syntax\n"
     ]
    }
   ],
   "source": [
    "days=\"mon,tue,wed\"\n",
    "year=(\"jan\\nfeb\\nmarch\")\n",
    "print(\"here r the day:\"),days\n",
    "print(\"here r the year:\"),year"
   ]
  },
  {
   "cell_type": "code",
   "execution_count": 55,
   "metadata": {},
   "outputs": [
    {
     "name": "stdout",
     "output_type": "stream",
     "text": [
      "hellolovely\n"
     ]
    },
    {
     "data": {
      "text/plain": [
       "6"
      ]
     },
     "execution_count": 55,
     "metadata": {},
     "output_type": "execute_result"
    }
   ],
   "source": [
    "a=\"hello\"\n",
    "b=\"lovely\"\n",
    "print(a[0:5]+b[len(b)-6:])\n",
    "len(b)\n"
   ]
  },
  {
   "cell_type": "code",
   "execution_count": 37,
   "metadata": {},
   "outputs": [
    {
     "data": {
      "text/plain": [
       "4"
      ]
     },
     "execution_count": 37,
     "metadata": {},
     "output_type": "execute_result"
    }
   ],
   "source": [
    "len(\"data\") #eturns length of the string\n"
   ]
  },
  {
   "cell_type": "code",
   "execution_count": 47,
   "metadata": {},
   "outputs": [
    {
     "data": {
      "text/plain": [
       "True"
      ]
     },
     "execution_count": 47,
     "metadata": {},
     "output_type": "execute_result"
    }
   ],
   "source": [
    "string=(\"data\")\n",
    "string.endswith(\"a\")\n",
    "\n"
   ]
  },
  {
   "cell_type": "code",
   "execution_count": 80,
   "metadata": {},
   "outputs": [
    {
     "name": "stdout",
     "output_type": "stream",
     "text": [
      "code's\n",
      "<class 'str'>\n",
      "codes\"s\n"
     ]
    }
   ],
   "source": [
    "b=\"code's\"\n",
    "print(b)\n",
    "print(type(b))\n",
    "c='codes\"s'\n",
    "print(c)"
   ]
  },
  {
   "cell_type": "code",
   "execution_count": 4,
   "metadata": {},
   "outputs": [
    {
     "name": "stdout",
     "output_type": "stream",
     "text": [
      "True\n"
     ]
    }
   ],
   "source": [
    "a=\"adda is a bitch\"\n",
    "x=\"\\u0033\" #isdecimal\n",
    "y=\"56774\" #isdigit\n",
    "#string.count(\"a\")\n",
    "#a.capitalize()\n",
    "#a.find(\"d\") #finds the index of the string\n",
    "#a.replace(\"adda\",\"ossa\")\n",
    "#a.expandtabs(5) # number of whitespaces given of example |t we number it\n",
    "#print(a)\n",
    "#a.index(\"i\") #almost same as find returns -1 if not found\n",
    "#b=\"adda is for {price:.2f} rupees!\"# .2f is two decimal points for fixed\n",
    "#print(b.format(price=300)) #flower brackets are for palceholders format is formating sting\n",
    "#a.format_map() same as format\n",
    "#print(a.isalnum()) # checks statement is alphabets and numbers and returns true or false\n",
    "#print(a.isalpha()) # checks all text are alphabets\n",
    "#print(a.isascii()) # checks for ascii american standard code for information interchange contains 128 types which includes a-z digits and some special signs\n",
    "#print(x.isdecimal()) # for unicode in decimal \\u0037 \n",
    "#print (y.isdigit())\n",
    "\n",
    "\n"
   ]
  },
  {
   "cell_type": "code",
   "execution_count": 19,
   "metadata": {},
   "outputs": [
    {
     "name": "stdout",
     "output_type": "stream",
     "text": [
      "rakka\n"
     ]
    }
   ],
   "source": [
    "#a=\"my name is stale\"\n",
    "#c=(\"cameron\",\"is\",\"a\",\"bitch\") #joining the tuple\n",
    "#a.encode() #uses normaly UTF-8 encoding search more about it\n",
    "#print(a)\n",
    "#b=\"Rakka\"\n",
    "#print (b.isidentifier()) # identifier is a-z oe 0-9 and underscores_ only it cannot start with digits and nowhitespaces\n",
    "#print (a.islower()) #checks for lower case aka small letters\n",
    "#print (a.isupper()) # for upper case or capital\n",
    "#print (\"%\".join(c)) #uses a seperator to join string\n",
    "#myseparator=\"nat\"\n",
    "#print(myseparator.join(c)) # another join() example for separtor \n",
    "#x=b.ljust(20,\"o\") #syntax is b.ljust(length,\"character\") ladjust is justifying to left\n",
    "#print (x,\"is my lad\")\n",
    "#print(b.lower()) # converts string to lower case\n"
   ]
  },
  {
   "cell_type": "code",
   "execution_count": 90,
   "metadata": {},
   "outputs": [
    {
     "name": "stdout",
     "output_type": "stream",
     "text": [
      "natcha Pello\n"
     ]
    }
   ],
   "source": [
    "#a=\"   rama   \"\n",
    "#x=a.lstrip() #removes left whitespaces syntax a.lstrip(\"character\")\n",
    "#print(\"he is good\",x,\"man\")\n",
    "#b=\"natcha Sello\"\n",
    "#x=b.maketrans(\"H\",\"K\")  #maketrans(x,y,z) is mapping table \n",
    "#print(b.translate(x)) #translate() returns or translates\n",
    "#mydict = {83: 80}\n",
    "#print(b.translate(mydict)) #mapping can be maketrans() or the my dictionary which uses ascii\n",
    "#a=\"goodnight zeb\"\n",
    "#x=\"ebz\"\n",
    "#y=\"aln\"\n",
    "#z=\"odnht\"\n",
    "#k=a.maketrans(x,y,z)\n",
    "#print(a.translate(k))\n",
    "#a=\"aiam good \"\n",
    "#a.partition(\"iam\") #syntax a.partition(\"string\") to search returns 3 form element before searched  item ,searched iten , and part after that string\n",
    "# returns for wrong search, normal valued string nxt two will be empty with colons\n",
    "#a=\"iam hot super,hot\"\n",
    "#a.rfind(\"hot\") #syntac a.rfind(\"string\",start,end)same as rindex method used to find last positions or occured os string\n",
    "#a.rindex(\"hot\")\n",
    "#a.rpartition(\"hot\")\n",
    "a=(\"rama bama shama\")\n",
    "#a.split() # splts string set by comma\n",
    "#a.rsplit(# ,-1 which is default) syntax a.rsplit(seperator,numbers of sting to split) starts from right and splits with comma\n",
    "#x=a.startswith(\"ba\",5,10) # a.startswith(\"string\",start,end) returns searched string is true or false\n",
    "#x\n",
    "\n",
    "\n",
    "\n",
    "\n"
   ]
  },
  {
   "cell_type": "code",
   "execution_count": 94,
   "metadata": {},
   "outputs": [
    {
     "name": "stdout",
     "output_type": "stream",
     "text": [
      "0000000010\n",
      "welcome to my world\n",
      "0000000.23\n"
     ]
    }
   ],
   "source": [
    "#a=(\"raMa, bAma shAma\")\n",
    "#x=a.strip(\",a\") #removes spaces at begining and end ,and character can be removed from a string\n",
    "#print(\"it is my \", x,\" is my favurite\")\n",
    "#print(a.swapcase()) # swaps the lower case to upper case and viceversa\n",
    "#b=\"%raone is 2boom b2m\"\n",
    "#print(b.title()) # returns the 1st character to upper case as integer is ignored\n",
    "#a.upper() # returns everything in the string upper case symbol and integer is ignored\n",
    "x=\"10\"\n",
    "y=\"welcome to my world\"\n",
    "z= \"0.23\"\n",
    "print(x.zfill(10)) # n.zfill(len) fill given length with zeros to make up to given length ,if the length of the given string is already full is ignores returns given string as before \n",
    "print(y.zfill(10))\n",
    "print(z.zfill(10))\n",
    "\n"
   ]
  },
  {
   "cell_type": "code",
   "execution_count": 30,
   "metadata": {},
   "outputs": [
    {
     "name": "stdout",
     "output_type": "stream",
     "text": [
      "10\n"
     ]
    }
   ],
   "source": [
    "a=\"iam a super from india\"\n",
    "x=a.index(\"r\",3,11)# whitespaces are counted as index syntax a.indes(\"search\",start,end)\n",
    "print(x)"
   ]
  },
  {
   "cell_type": "code",
   "execution_count": 1,
   "metadata": {
    "scrolled": true
   },
   "outputs": [
    {
     "name": "stdout",
     "output_type": "stream",
     "text": [
      "'codes're des'\n"
     ]
    }
   ],
   "source": [
    "b=\"'codes're des'\"\n",
    "print(b)"
   ]
  },
  {
   "cell_type": "code",
   "execution_count": 1,
   "metadata": {},
   "outputs": [
    {
     "name": "stdout",
     "output_type": "stream",
     "text": [
      "enter your name=hello\n",
      "good evening,hello\n"
     ]
    }
   ],
   "source": [
    "name=input(\"enter your name=\")\n",
    "print(\"good evening,\" +name)"
   ]
  },
  {
   "cell_type": "code",
   "execution_count": null,
   "metadata": {},
   "outputs": [],
   "source": [
    "letter =\"'dear <|NAME|>,hey there you are selected to financial group of our collge on <|DATE|>\"\n",
    "name=input(\"enter name=\")\n",
    "date=input(\"date:\")\n",
    "letter=letter.replace(\"|NAME|\",name)\n",
    "letter=letter.replace(\"|DATE|\",date)\n",
    "print(letter)"
   ]
  },
  {
   "cell_type": "code",
   "execution_count": null,
   "metadata": {},
   "outputs": [],
   "source": [
    "string=\"helo  iam  very  good\"\n",
    "doublespaces=string.find(\"\")\n",
    "print(doublespaces)"
   ]
  },
  {
   "cell_type": "code",
   "execution_count": null,
   "metadata": {},
   "outputs": [],
   "source": [
    "#examples for foramt\n",
    "letter=\"hello people there how is your day \"\n",
    "print(letter)\n",
    "formatted_letter=\"hello people \\n there \\t how is your day\"\n",
    "print(formatted_letter)\n"
   ]
  },
  {
   "cell_type": "code",
   "execution_count": 9,
   "metadata": {},
   "outputs": [
    {
     "name": "stdout",
     "output_type": "stream",
     "text": [
      "hello word\n"
     ]
    }
   ],
   "source": [
    "a=\"hello word\"\n",
    "a.replace(\" \",\" \")\n",
    "print(a)"
   ]
  },
  {
   "cell_type": "code",
   "execution_count": 6,
   "metadata": {},
   "outputs": [
    {
     "data": {
      "text/plain": [
       "'hello word'"
      ]
     },
     "execution_count": 6,
     "metadata": {},
     "output_type": "execute_result"
    }
   ],
   "source": [
    "a=\"hello word\"\n",
    "a"
   ]
  },
  {
   "cell_type": "code",
   "execution_count": null,
   "metadata": {},
   "outputs": [],
   "source": []
  }
 ],
 "metadata": {
  "kernelspec": {
   "display_name": "Python 3",
   "language": "python",
   "name": "python3"
  },
  "language_info": {
   "codemirror_mode": {
    "name": "ipython",
    "version": 3
   },
   "file_extension": ".py",
   "mimetype": "text/x-python",
   "name": "python",
   "nbconvert_exporter": "python",
   "pygments_lexer": "ipython3",
   "version": "3.8.3"
  }
 },
 "nbformat": 4,
 "nbformat_minor": 4
}
